{
  "nbformat": 4,
  "nbformat_minor": 0,
  "metadata": {
    "colab": {
      "provenance": [],
      "collapsed_sections": []
    },
    "kernelspec": {
      "name": "python3",
      "display_name": "Python 3"
    },
    "language_info": {
      "name": "python"
    }
  },
  "cells": [
    {
      "cell_type": "markdown",
      "source": [
        "# Jinlun Zhang 20055835\n",
        "# Wenqi Tang 20093622\n",
        "# Eissa Khan "
      ],
      "metadata": {
        "id": "139c86uCYO05"
      }
    },
    {
      "cell_type": "code",
      "execution_count": 317,
      "metadata": {
        "id": "efaymR-rYLFD"
      },
      "outputs": [],
      "source": [
        "#Loading libraries \n",
        "import pandas as pd\n",
        "import numpy as np\n",
        "import matplotlib.pyplot as plt\n",
        "import seaborn as sns"
      ]
    },
    {
      "cell_type": "code",
      "source": [
        "df_train = pd.read_csv(\"/content/C2T1_Train.csv\")\n",
        "df_test = pd.read_csv(\"/content/C2T1_Test.csv\")\n",
        "df_train"
      ],
      "metadata": {
        "id": "e7FxNg5Qba4J",
        "colab": {
          "base_uri": "https://localhost:8080/",
          "height": 679
        },
        "outputId": "cb7200b2-ac76-461b-d04d-d4505294ad78"
      },
      "execution_count": 318,
      "outputs": [
        {
          "output_type": "execute_result",
          "data": {
            "text/plain": [
              "       encounter_id2  patient_nbr2             race  gender       age weight  \\\n",
              "0               5283      48330653        Caucasian  Female   [80-90)      ?   \n",
              "1               8499      63555809        Caucasian  Female  [90-100)      ?   \n",
              "2               9441      42519137        Caucasian    Male   [40-50)      ?   \n",
              "3              20997      89868902  AfricanAmerican  Female   [40-50)      ?   \n",
              "4              28515      82637321        Caucasian    Male   [50-60)      ?   \n",
              "...              ...           ...              ...     ...       ...    ...   \n",
              "90761      443840309     100162346  AfricanAmerican    Male   [70-80)      ?   \n",
              "90762      443840543      74694092  AfricanAmerican  Female   [80-90)      ?   \n",
              "90763      443846909      41088659        Caucasian    Male   [70-80)      ?   \n",
              "90764      443849927      31693541        Caucasian  Female   [80-90)      ?   \n",
              "90765      443859983     175429180        Caucasian    Male   [70-80)      ?   \n",
              "\n",
              "       admission_type_id  discharge_disposition_id  admission_source_id  \\\n",
              "0                      2                         1                    4   \n",
              "1                      3                         3                    4   \n",
              "2                      1                         1                    7   \n",
              "3                      1                         1                    7   \n",
              "4                      2                         1                    2   \n",
              "...                  ...                       ...                  ...   \n",
              "90761                  1                         3                    7   \n",
              "90762                  1                         4                    5   \n",
              "90763                  1                         1                    7   \n",
              "90764                  2                         3                    7   \n",
              "90765                  1                         1                    7   \n",
              "\n",
              "       time_in_hospital  ... citoglipton insulin  glyburide-metformin  \\\n",
              "0                    13  ...          No  Steady                   No   \n",
              "1                    12  ...          No  Steady                   No   \n",
              "2                     1  ...          No  Steady                   No   \n",
              "3                     9  ...          No  Steady                   No   \n",
              "4                     3  ...          No  Steady                   No   \n",
              "...                 ...  ...         ...     ...                  ...   \n",
              "90761                 3  ...          No    Down                   No   \n",
              "90762                 5  ...          No  Steady                   No   \n",
              "90763                 1  ...          No    Down                   No   \n",
              "90764                10  ...          No      Up                   No   \n",
              "90765                 6  ...          No      No                   No   \n",
              "\n",
              "       glipizide-metformin  glimepiride-pioglitazone  metformin-rosiglitazone  \\\n",
              "0                       No                        No                       No   \n",
              "1                       No                        No                       No   \n",
              "2                       No                        No                       No   \n",
              "3                       No                        No                       No   \n",
              "4                       No                        No                       No   \n",
              "...                    ...                       ...                      ...   \n",
              "90761                   No                        No                       No   \n",
              "90762                   No                        No                       No   \n",
              "90763                   No                        No                       No   \n",
              "90764                   No                        No                       No   \n",
              "90765                   No                        No                       No   \n",
              "\n",
              "       metformin-pioglitazone  change diabetesMed readmitted  \n",
              "0                          No      Ch         Yes         NO  \n",
              "1                          No      Ch         Yes         NO  \n",
              "2                          No      Ch         Yes         NO  \n",
              "3                          No      No         Yes        >30  \n",
              "4                          No      No         Yes        >30  \n",
              "...                       ...     ...         ...        ...  \n",
              "90761                      No      Ch         Yes        >30  \n",
              "90762                      No      No         Yes         NO  \n",
              "90763                      No      Ch         Yes         NO  \n",
              "90764                      No      Ch         Yes         NO  \n",
              "90765                      No      No          No         NO  \n",
              "\n",
              "[90766 rows x 50 columns]"
            ],
            "text/html": [
              "\n",
              "  <div id=\"df-76987188-c5d8-4caf-b1f2-76b37ae067a2\">\n",
              "    <div class=\"colab-df-container\">\n",
              "      <div>\n",
              "<style scoped>\n",
              "    .dataframe tbody tr th:only-of-type {\n",
              "        vertical-align: middle;\n",
              "    }\n",
              "\n",
              "    .dataframe tbody tr th {\n",
              "        vertical-align: top;\n",
              "    }\n",
              "\n",
              "    .dataframe thead th {\n",
              "        text-align: right;\n",
              "    }\n",
              "</style>\n",
              "<table border=\"1\" class=\"dataframe\">\n",
              "  <thead>\n",
              "    <tr style=\"text-align: right;\">\n",
              "      <th></th>\n",
              "      <th>encounter_id2</th>\n",
              "      <th>patient_nbr2</th>\n",
              "      <th>race</th>\n",
              "      <th>gender</th>\n",
              "      <th>age</th>\n",
              "      <th>weight</th>\n",
              "      <th>admission_type_id</th>\n",
              "      <th>discharge_disposition_id</th>\n",
              "      <th>admission_source_id</th>\n",
              "      <th>time_in_hospital</th>\n",
              "      <th>...</th>\n",
              "      <th>citoglipton</th>\n",
              "      <th>insulin</th>\n",
              "      <th>glyburide-metformin</th>\n",
              "      <th>glipizide-metformin</th>\n",
              "      <th>glimepiride-pioglitazone</th>\n",
              "      <th>metformin-rosiglitazone</th>\n",
              "      <th>metformin-pioglitazone</th>\n",
              "      <th>change</th>\n",
              "      <th>diabetesMed</th>\n",
              "      <th>readmitted</th>\n",
              "    </tr>\n",
              "  </thead>\n",
              "  <tbody>\n",
              "    <tr>\n",
              "      <th>0</th>\n",
              "      <td>5283</td>\n",
              "      <td>48330653</td>\n",
              "      <td>Caucasian</td>\n",
              "      <td>Female</td>\n",
              "      <td>[80-90)</td>\n",
              "      <td>?</td>\n",
              "      <td>2</td>\n",
              "      <td>1</td>\n",
              "      <td>4</td>\n",
              "      <td>13</td>\n",
              "      <td>...</td>\n",
              "      <td>No</td>\n",
              "      <td>Steady</td>\n",
              "      <td>No</td>\n",
              "      <td>No</td>\n",
              "      <td>No</td>\n",
              "      <td>No</td>\n",
              "      <td>No</td>\n",
              "      <td>Ch</td>\n",
              "      <td>Yes</td>\n",
              "      <td>NO</td>\n",
              "    </tr>\n",
              "    <tr>\n",
              "      <th>1</th>\n",
              "      <td>8499</td>\n",
              "      <td>63555809</td>\n",
              "      <td>Caucasian</td>\n",
              "      <td>Female</td>\n",
              "      <td>[90-100)</td>\n",
              "      <td>?</td>\n",
              "      <td>3</td>\n",
              "      <td>3</td>\n",
              "      <td>4</td>\n",
              "      <td>12</td>\n",
              "      <td>...</td>\n",
              "      <td>No</td>\n",
              "      <td>Steady</td>\n",
              "      <td>No</td>\n",
              "      <td>No</td>\n",
              "      <td>No</td>\n",
              "      <td>No</td>\n",
              "      <td>No</td>\n",
              "      <td>Ch</td>\n",
              "      <td>Yes</td>\n",
              "      <td>NO</td>\n",
              "    </tr>\n",
              "    <tr>\n",
              "      <th>2</th>\n",
              "      <td>9441</td>\n",
              "      <td>42519137</td>\n",
              "      <td>Caucasian</td>\n",
              "      <td>Male</td>\n",
              "      <td>[40-50)</td>\n",
              "      <td>?</td>\n",
              "      <td>1</td>\n",
              "      <td>1</td>\n",
              "      <td>7</td>\n",
              "      <td>1</td>\n",
              "      <td>...</td>\n",
              "      <td>No</td>\n",
              "      <td>Steady</td>\n",
              "      <td>No</td>\n",
              "      <td>No</td>\n",
              "      <td>No</td>\n",
              "      <td>No</td>\n",
              "      <td>No</td>\n",
              "      <td>Ch</td>\n",
              "      <td>Yes</td>\n",
              "      <td>NO</td>\n",
              "    </tr>\n",
              "    <tr>\n",
              "      <th>3</th>\n",
              "      <td>20997</td>\n",
              "      <td>89868902</td>\n",
              "      <td>AfricanAmerican</td>\n",
              "      <td>Female</td>\n",
              "      <td>[40-50)</td>\n",
              "      <td>?</td>\n",
              "      <td>1</td>\n",
              "      <td>1</td>\n",
              "      <td>7</td>\n",
              "      <td>9</td>\n",
              "      <td>...</td>\n",
              "      <td>No</td>\n",
              "      <td>Steady</td>\n",
              "      <td>No</td>\n",
              "      <td>No</td>\n",
              "      <td>No</td>\n",
              "      <td>No</td>\n",
              "      <td>No</td>\n",
              "      <td>No</td>\n",
              "      <td>Yes</td>\n",
              "      <td>&gt;30</td>\n",
              "    </tr>\n",
              "    <tr>\n",
              "      <th>4</th>\n",
              "      <td>28515</td>\n",
              "      <td>82637321</td>\n",
              "      <td>Caucasian</td>\n",
              "      <td>Male</td>\n",
              "      <td>[50-60)</td>\n",
              "      <td>?</td>\n",
              "      <td>2</td>\n",
              "      <td>1</td>\n",
              "      <td>2</td>\n",
              "      <td>3</td>\n",
              "      <td>...</td>\n",
              "      <td>No</td>\n",
              "      <td>Steady</td>\n",
              "      <td>No</td>\n",
              "      <td>No</td>\n",
              "      <td>No</td>\n",
              "      <td>No</td>\n",
              "      <td>No</td>\n",
              "      <td>No</td>\n",
              "      <td>Yes</td>\n",
              "      <td>&gt;30</td>\n",
              "    </tr>\n",
              "    <tr>\n",
              "      <th>...</th>\n",
              "      <td>...</td>\n",
              "      <td>...</td>\n",
              "      <td>...</td>\n",
              "      <td>...</td>\n",
              "      <td>...</td>\n",
              "      <td>...</td>\n",
              "      <td>...</td>\n",
              "      <td>...</td>\n",
              "      <td>...</td>\n",
              "      <td>...</td>\n",
              "      <td>...</td>\n",
              "      <td>...</td>\n",
              "      <td>...</td>\n",
              "      <td>...</td>\n",
              "      <td>...</td>\n",
              "      <td>...</td>\n",
              "      <td>...</td>\n",
              "      <td>...</td>\n",
              "      <td>...</td>\n",
              "      <td>...</td>\n",
              "      <td>...</td>\n",
              "    </tr>\n",
              "    <tr>\n",
              "      <th>90761</th>\n",
              "      <td>443840309</td>\n",
              "      <td>100162346</td>\n",
              "      <td>AfricanAmerican</td>\n",
              "      <td>Male</td>\n",
              "      <td>[70-80)</td>\n",
              "      <td>?</td>\n",
              "      <td>1</td>\n",
              "      <td>3</td>\n",
              "      <td>7</td>\n",
              "      <td>3</td>\n",
              "      <td>...</td>\n",
              "      <td>No</td>\n",
              "      <td>Down</td>\n",
              "      <td>No</td>\n",
              "      <td>No</td>\n",
              "      <td>No</td>\n",
              "      <td>No</td>\n",
              "      <td>No</td>\n",
              "      <td>Ch</td>\n",
              "      <td>Yes</td>\n",
              "      <td>&gt;30</td>\n",
              "    </tr>\n",
              "    <tr>\n",
              "      <th>90762</th>\n",
              "      <td>443840543</td>\n",
              "      <td>74694092</td>\n",
              "      <td>AfricanAmerican</td>\n",
              "      <td>Female</td>\n",
              "      <td>[80-90)</td>\n",
              "      <td>?</td>\n",
              "      <td>1</td>\n",
              "      <td>4</td>\n",
              "      <td>5</td>\n",
              "      <td>5</td>\n",
              "      <td>...</td>\n",
              "      <td>No</td>\n",
              "      <td>Steady</td>\n",
              "      <td>No</td>\n",
              "      <td>No</td>\n",
              "      <td>No</td>\n",
              "      <td>No</td>\n",
              "      <td>No</td>\n",
              "      <td>No</td>\n",
              "      <td>Yes</td>\n",
              "      <td>NO</td>\n",
              "    </tr>\n",
              "    <tr>\n",
              "      <th>90763</th>\n",
              "      <td>443846909</td>\n",
              "      <td>41088659</td>\n",
              "      <td>Caucasian</td>\n",
              "      <td>Male</td>\n",
              "      <td>[70-80)</td>\n",
              "      <td>?</td>\n",
              "      <td>1</td>\n",
              "      <td>1</td>\n",
              "      <td>7</td>\n",
              "      <td>1</td>\n",
              "      <td>...</td>\n",
              "      <td>No</td>\n",
              "      <td>Down</td>\n",
              "      <td>No</td>\n",
              "      <td>No</td>\n",
              "      <td>No</td>\n",
              "      <td>No</td>\n",
              "      <td>No</td>\n",
              "      <td>Ch</td>\n",
              "      <td>Yes</td>\n",
              "      <td>NO</td>\n",
              "    </tr>\n",
              "    <tr>\n",
              "      <th>90764</th>\n",
              "      <td>443849927</td>\n",
              "      <td>31693541</td>\n",
              "      <td>Caucasian</td>\n",
              "      <td>Female</td>\n",
              "      <td>[80-90)</td>\n",
              "      <td>?</td>\n",
              "      <td>2</td>\n",
              "      <td>3</td>\n",
              "      <td>7</td>\n",
              "      <td>10</td>\n",
              "      <td>...</td>\n",
              "      <td>No</td>\n",
              "      <td>Up</td>\n",
              "      <td>No</td>\n",
              "      <td>No</td>\n",
              "      <td>No</td>\n",
              "      <td>No</td>\n",
              "      <td>No</td>\n",
              "      <td>Ch</td>\n",
              "      <td>Yes</td>\n",
              "      <td>NO</td>\n",
              "    </tr>\n",
              "    <tr>\n",
              "      <th>90765</th>\n",
              "      <td>443859983</td>\n",
              "      <td>175429180</td>\n",
              "      <td>Caucasian</td>\n",
              "      <td>Male</td>\n",
              "      <td>[70-80)</td>\n",
              "      <td>?</td>\n",
              "      <td>1</td>\n",
              "      <td>1</td>\n",
              "      <td>7</td>\n",
              "      <td>6</td>\n",
              "      <td>...</td>\n",
              "      <td>No</td>\n",
              "      <td>No</td>\n",
              "      <td>No</td>\n",
              "      <td>No</td>\n",
              "      <td>No</td>\n",
              "      <td>No</td>\n",
              "      <td>No</td>\n",
              "      <td>No</td>\n",
              "      <td>No</td>\n",
              "      <td>NO</td>\n",
              "    </tr>\n",
              "  </tbody>\n",
              "</table>\n",
              "<p>90766 rows × 50 columns</p>\n",
              "</div>\n",
              "      <button class=\"colab-df-convert\" onclick=\"convertToInteractive('df-76987188-c5d8-4caf-b1f2-76b37ae067a2')\"\n",
              "              title=\"Convert this dataframe to an interactive table.\"\n",
              "              style=\"display:none;\">\n",
              "        \n",
              "  <svg xmlns=\"http://www.w3.org/2000/svg\" height=\"24px\"viewBox=\"0 0 24 24\"\n",
              "       width=\"24px\">\n",
              "    <path d=\"M0 0h24v24H0V0z\" fill=\"none\"/>\n",
              "    <path d=\"M18.56 5.44l.94 2.06.94-2.06 2.06-.94-2.06-.94-.94-2.06-.94 2.06-2.06.94zm-11 1L8.5 8.5l.94-2.06 2.06-.94-2.06-.94L8.5 2.5l-.94 2.06-2.06.94zm10 10l.94 2.06.94-2.06 2.06-.94-2.06-.94-.94-2.06-.94 2.06-2.06.94z\"/><path d=\"M17.41 7.96l-1.37-1.37c-.4-.4-.92-.59-1.43-.59-.52 0-1.04.2-1.43.59L10.3 9.45l-7.72 7.72c-.78.78-.78 2.05 0 2.83L4 21.41c.39.39.9.59 1.41.59.51 0 1.02-.2 1.41-.59l7.78-7.78 2.81-2.81c.8-.78.8-2.07 0-2.86zM5.41 20L4 18.59l7.72-7.72 1.47 1.35L5.41 20z\"/>\n",
              "  </svg>\n",
              "      </button>\n",
              "      \n",
              "  <style>\n",
              "    .colab-df-container {\n",
              "      display:flex;\n",
              "      flex-wrap:wrap;\n",
              "      gap: 12px;\n",
              "    }\n",
              "\n",
              "    .colab-df-convert {\n",
              "      background-color: #E8F0FE;\n",
              "      border: none;\n",
              "      border-radius: 50%;\n",
              "      cursor: pointer;\n",
              "      display: none;\n",
              "      fill: #1967D2;\n",
              "      height: 32px;\n",
              "      padding: 0 0 0 0;\n",
              "      width: 32px;\n",
              "    }\n",
              "\n",
              "    .colab-df-convert:hover {\n",
              "      background-color: #E2EBFA;\n",
              "      box-shadow: 0px 1px 2px rgba(60, 64, 67, 0.3), 0px 1px 3px 1px rgba(60, 64, 67, 0.15);\n",
              "      fill: #174EA6;\n",
              "    }\n",
              "\n",
              "    [theme=dark] .colab-df-convert {\n",
              "      background-color: #3B4455;\n",
              "      fill: #D2E3FC;\n",
              "    }\n",
              "\n",
              "    [theme=dark] .colab-df-convert:hover {\n",
              "      background-color: #434B5C;\n",
              "      box-shadow: 0px 1px 3px 1px rgba(0, 0, 0, 0.15);\n",
              "      filter: drop-shadow(0px 1px 2px rgba(0, 0, 0, 0.3));\n",
              "      fill: #FFFFFF;\n",
              "    }\n",
              "  </style>\n",
              "\n",
              "      <script>\n",
              "        const buttonEl =\n",
              "          document.querySelector('#df-76987188-c5d8-4caf-b1f2-76b37ae067a2 button.colab-df-convert');\n",
              "        buttonEl.style.display =\n",
              "          google.colab.kernel.accessAllowed ? 'block' : 'none';\n",
              "\n",
              "        async function convertToInteractive(key) {\n",
              "          const element = document.querySelector('#df-76987188-c5d8-4caf-b1f2-76b37ae067a2');\n",
              "          const dataTable =\n",
              "            await google.colab.kernel.invokeFunction('convertToInteractive',\n",
              "                                                     [key], {});\n",
              "          if (!dataTable) return;\n",
              "\n",
              "          const docLinkHtml = 'Like what you see? Visit the ' +\n",
              "            '<a target=\"_blank\" href=https://colab.research.google.com/notebooks/data_table.ipynb>data table notebook</a>'\n",
              "            + ' to learn more about interactive tables.';\n",
              "          element.innerHTML = '';\n",
              "          dataTable['output_type'] = 'display_data';\n",
              "          await google.colab.output.renderOutput(dataTable, element);\n",
              "          const docLink = document.createElement('div');\n",
              "          docLink.innerHTML = docLinkHtml;\n",
              "          element.appendChild(docLink);\n",
              "        }\n",
              "      </script>\n",
              "    </div>\n",
              "  </div>\n",
              "  "
            ]
          },
          "metadata": {},
          "execution_count": 318
        }
      ]
    },
    {
      "cell_type": "code",
      "source": [
        "df_train.describe()"
      ],
      "metadata": {
        "id": "QT8GqS8kbbAZ",
        "colab": {
          "base_uri": "https://localhost:8080/",
          "height": 364
        },
        "outputId": "9164a48e-e9fe-47a3-df9c-8d0431960cdd"
      },
      "execution_count": 319,
      "outputs": [
        {
          "output_type": "execute_result",
          "data": {
            "text/plain": [
              "       encounter_id2  patient_nbr2  admission_type_id  \\\n",
              "count   9.076600e+04  9.076600e+04       90766.000000   \n",
              "mean    1.628244e+08  5.291868e+07           2.025406   \n",
              "std     1.083792e+08  3.954496e+07           1.454453   \n",
              "min     5.283000e+03  5.000000e+00           1.000000   \n",
              "25%     7.794063e+07  2.220677e+07           1.000000   \n",
              "50%     1.402534e+08  4.361397e+07           1.000000   \n",
              "75%     2.421968e+08  8.681160e+07           3.000000   \n",
              "max     4.438600e+08  1.895025e+08           8.000000   \n",
              "\n",
              "       discharge_disposition_id  admission_source_id  time_in_hospital  \\\n",
              "count              90766.000000         90766.000000      90766.000000   \n",
              "mean                   3.775092             5.847267          4.408942   \n",
              "std                    5.359248             4.147569          2.995873   \n",
              "min                    1.000000             1.000000          1.000000   \n",
              "25%                    1.000000             1.000000          2.000000   \n",
              "50%                    1.000000             7.000000          4.000000   \n",
              "75%                    4.000000             7.000000          6.000000   \n",
              "max                   28.000000            25.000000         14.000000   \n",
              "\n",
              "       num_lab_procedures  num_procedures  num_medications  number_outpatient  \\\n",
              "count        90766.000000    90766.000000     90766.000000       90766.000000   \n",
              "mean            42.848622        1.341868        15.912886           0.347090   \n",
              "std             19.796106        1.704650         8.122734           1.194099   \n",
              "min              1.000000        0.000000         1.000000           0.000000   \n",
              "25%             31.000000        0.000000        10.000000           0.000000   \n",
              "50%             44.000000        1.000000        15.000000           0.000000   \n",
              "75%             57.000000        2.000000        20.000000           0.000000   \n",
              "max            132.000000        6.000000        81.000000          40.000000   \n",
              "\n",
              "       number_emergency  number_inpatient  number_diagnoses  \n",
              "count      90766.000000      90766.000000      90766.000000  \n",
              "mean           0.189730          0.624628          7.379371  \n",
              "std            0.930657          1.256617          1.950545  \n",
              "min            0.000000          0.000000          1.000000  \n",
              "25%            0.000000          0.000000          6.000000  \n",
              "50%            0.000000          0.000000          8.000000  \n",
              "75%            0.000000          1.000000          9.000000  \n",
              "max           76.000000         21.000000         16.000000  "
            ],
            "text/html": [
              "\n",
              "  <div id=\"df-11566133-5538-4d23-9894-18a1e89fbbcd\">\n",
              "    <div class=\"colab-df-container\">\n",
              "      <div>\n",
              "<style scoped>\n",
              "    .dataframe tbody tr th:only-of-type {\n",
              "        vertical-align: middle;\n",
              "    }\n",
              "\n",
              "    .dataframe tbody tr th {\n",
              "        vertical-align: top;\n",
              "    }\n",
              "\n",
              "    .dataframe thead th {\n",
              "        text-align: right;\n",
              "    }\n",
              "</style>\n",
              "<table border=\"1\" class=\"dataframe\">\n",
              "  <thead>\n",
              "    <tr style=\"text-align: right;\">\n",
              "      <th></th>\n",
              "      <th>encounter_id2</th>\n",
              "      <th>patient_nbr2</th>\n",
              "      <th>admission_type_id</th>\n",
              "      <th>discharge_disposition_id</th>\n",
              "      <th>admission_source_id</th>\n",
              "      <th>time_in_hospital</th>\n",
              "      <th>num_lab_procedures</th>\n",
              "      <th>num_procedures</th>\n",
              "      <th>num_medications</th>\n",
              "      <th>number_outpatient</th>\n",
              "      <th>number_emergency</th>\n",
              "      <th>number_inpatient</th>\n",
              "      <th>number_diagnoses</th>\n",
              "    </tr>\n",
              "  </thead>\n",
              "  <tbody>\n",
              "    <tr>\n",
              "      <th>count</th>\n",
              "      <td>9.076600e+04</td>\n",
              "      <td>9.076600e+04</td>\n",
              "      <td>90766.000000</td>\n",
              "      <td>90766.000000</td>\n",
              "      <td>90766.000000</td>\n",
              "      <td>90766.000000</td>\n",
              "      <td>90766.000000</td>\n",
              "      <td>90766.000000</td>\n",
              "      <td>90766.000000</td>\n",
              "      <td>90766.000000</td>\n",
              "      <td>90766.000000</td>\n",
              "      <td>90766.000000</td>\n",
              "      <td>90766.000000</td>\n",
              "    </tr>\n",
              "    <tr>\n",
              "      <th>mean</th>\n",
              "      <td>1.628244e+08</td>\n",
              "      <td>5.291868e+07</td>\n",
              "      <td>2.025406</td>\n",
              "      <td>3.775092</td>\n",
              "      <td>5.847267</td>\n",
              "      <td>4.408942</td>\n",
              "      <td>42.848622</td>\n",
              "      <td>1.341868</td>\n",
              "      <td>15.912886</td>\n",
              "      <td>0.347090</td>\n",
              "      <td>0.189730</td>\n",
              "      <td>0.624628</td>\n",
              "      <td>7.379371</td>\n",
              "    </tr>\n",
              "    <tr>\n",
              "      <th>std</th>\n",
              "      <td>1.083792e+08</td>\n",
              "      <td>3.954496e+07</td>\n",
              "      <td>1.454453</td>\n",
              "      <td>5.359248</td>\n",
              "      <td>4.147569</td>\n",
              "      <td>2.995873</td>\n",
              "      <td>19.796106</td>\n",
              "      <td>1.704650</td>\n",
              "      <td>8.122734</td>\n",
              "      <td>1.194099</td>\n",
              "      <td>0.930657</td>\n",
              "      <td>1.256617</td>\n",
              "      <td>1.950545</td>\n",
              "    </tr>\n",
              "    <tr>\n",
              "      <th>min</th>\n",
              "      <td>5.283000e+03</td>\n",
              "      <td>5.000000e+00</td>\n",
              "      <td>1.000000</td>\n",
              "      <td>1.000000</td>\n",
              "      <td>1.000000</td>\n",
              "      <td>1.000000</td>\n",
              "      <td>1.000000</td>\n",
              "      <td>0.000000</td>\n",
              "      <td>1.000000</td>\n",
              "      <td>0.000000</td>\n",
              "      <td>0.000000</td>\n",
              "      <td>0.000000</td>\n",
              "      <td>1.000000</td>\n",
              "    </tr>\n",
              "    <tr>\n",
              "      <th>25%</th>\n",
              "      <td>7.794063e+07</td>\n",
              "      <td>2.220677e+07</td>\n",
              "      <td>1.000000</td>\n",
              "      <td>1.000000</td>\n",
              "      <td>1.000000</td>\n",
              "      <td>2.000000</td>\n",
              "      <td>31.000000</td>\n",
              "      <td>0.000000</td>\n",
              "      <td>10.000000</td>\n",
              "      <td>0.000000</td>\n",
              "      <td>0.000000</td>\n",
              "      <td>0.000000</td>\n",
              "      <td>6.000000</td>\n",
              "    </tr>\n",
              "    <tr>\n",
              "      <th>50%</th>\n",
              "      <td>1.402534e+08</td>\n",
              "      <td>4.361397e+07</td>\n",
              "      <td>1.000000</td>\n",
              "      <td>1.000000</td>\n",
              "      <td>7.000000</td>\n",
              "      <td>4.000000</td>\n",
              "      <td>44.000000</td>\n",
              "      <td>1.000000</td>\n",
              "      <td>15.000000</td>\n",
              "      <td>0.000000</td>\n",
              "      <td>0.000000</td>\n",
              "      <td>0.000000</td>\n",
              "      <td>8.000000</td>\n",
              "    </tr>\n",
              "    <tr>\n",
              "      <th>75%</th>\n",
              "      <td>2.421968e+08</td>\n",
              "      <td>8.681160e+07</td>\n",
              "      <td>3.000000</td>\n",
              "      <td>4.000000</td>\n",
              "      <td>7.000000</td>\n",
              "      <td>6.000000</td>\n",
              "      <td>57.000000</td>\n",
              "      <td>2.000000</td>\n",
              "      <td>20.000000</td>\n",
              "      <td>0.000000</td>\n",
              "      <td>0.000000</td>\n",
              "      <td>1.000000</td>\n",
              "      <td>9.000000</td>\n",
              "    </tr>\n",
              "    <tr>\n",
              "      <th>max</th>\n",
              "      <td>4.438600e+08</td>\n",
              "      <td>1.895025e+08</td>\n",
              "      <td>8.000000</td>\n",
              "      <td>28.000000</td>\n",
              "      <td>25.000000</td>\n",
              "      <td>14.000000</td>\n",
              "      <td>132.000000</td>\n",
              "      <td>6.000000</td>\n",
              "      <td>81.000000</td>\n",
              "      <td>40.000000</td>\n",
              "      <td>76.000000</td>\n",
              "      <td>21.000000</td>\n",
              "      <td>16.000000</td>\n",
              "    </tr>\n",
              "  </tbody>\n",
              "</table>\n",
              "</div>\n",
              "      <button class=\"colab-df-convert\" onclick=\"convertToInteractive('df-11566133-5538-4d23-9894-18a1e89fbbcd')\"\n",
              "              title=\"Convert this dataframe to an interactive table.\"\n",
              "              style=\"display:none;\">\n",
              "        \n",
              "  <svg xmlns=\"http://www.w3.org/2000/svg\" height=\"24px\"viewBox=\"0 0 24 24\"\n",
              "       width=\"24px\">\n",
              "    <path d=\"M0 0h24v24H0V0z\" fill=\"none\"/>\n",
              "    <path d=\"M18.56 5.44l.94 2.06.94-2.06 2.06-.94-2.06-.94-.94-2.06-.94 2.06-2.06.94zm-11 1L8.5 8.5l.94-2.06 2.06-.94-2.06-.94L8.5 2.5l-.94 2.06-2.06.94zm10 10l.94 2.06.94-2.06 2.06-.94-2.06-.94-.94-2.06-.94 2.06-2.06.94z\"/><path d=\"M17.41 7.96l-1.37-1.37c-.4-.4-.92-.59-1.43-.59-.52 0-1.04.2-1.43.59L10.3 9.45l-7.72 7.72c-.78.78-.78 2.05 0 2.83L4 21.41c.39.39.9.59 1.41.59.51 0 1.02-.2 1.41-.59l7.78-7.78 2.81-2.81c.8-.78.8-2.07 0-2.86zM5.41 20L4 18.59l7.72-7.72 1.47 1.35L5.41 20z\"/>\n",
              "  </svg>\n",
              "      </button>\n",
              "      \n",
              "  <style>\n",
              "    .colab-df-container {\n",
              "      display:flex;\n",
              "      flex-wrap:wrap;\n",
              "      gap: 12px;\n",
              "    }\n",
              "\n",
              "    .colab-df-convert {\n",
              "      background-color: #E8F0FE;\n",
              "      border: none;\n",
              "      border-radius: 50%;\n",
              "      cursor: pointer;\n",
              "      display: none;\n",
              "      fill: #1967D2;\n",
              "      height: 32px;\n",
              "      padding: 0 0 0 0;\n",
              "      width: 32px;\n",
              "    }\n",
              "\n",
              "    .colab-df-convert:hover {\n",
              "      background-color: #E2EBFA;\n",
              "      box-shadow: 0px 1px 2px rgba(60, 64, 67, 0.3), 0px 1px 3px 1px rgba(60, 64, 67, 0.15);\n",
              "      fill: #174EA6;\n",
              "    }\n",
              "\n",
              "    [theme=dark] .colab-df-convert {\n",
              "      background-color: #3B4455;\n",
              "      fill: #D2E3FC;\n",
              "    }\n",
              "\n",
              "    [theme=dark] .colab-df-convert:hover {\n",
              "      background-color: #434B5C;\n",
              "      box-shadow: 0px 1px 3px 1px rgba(0, 0, 0, 0.15);\n",
              "      filter: drop-shadow(0px 1px 2px rgba(0, 0, 0, 0.3));\n",
              "      fill: #FFFFFF;\n",
              "    }\n",
              "  </style>\n",
              "\n",
              "      <script>\n",
              "        const buttonEl =\n",
              "          document.querySelector('#df-11566133-5538-4d23-9894-18a1e89fbbcd button.colab-df-convert');\n",
              "        buttonEl.style.display =\n",
              "          google.colab.kernel.accessAllowed ? 'block' : 'none';\n",
              "\n",
              "        async function convertToInteractive(key) {\n",
              "          const element = document.querySelector('#df-11566133-5538-4d23-9894-18a1e89fbbcd');\n",
              "          const dataTable =\n",
              "            await google.colab.kernel.invokeFunction('convertToInteractive',\n",
              "                                                     [key], {});\n",
              "          if (!dataTable) return;\n",
              "\n",
              "          const docLinkHtml = 'Like what you see? Visit the ' +\n",
              "            '<a target=\"_blank\" href=https://colab.research.google.com/notebooks/data_table.ipynb>data table notebook</a>'\n",
              "            + ' to learn more about interactive tables.';\n",
              "          element.innerHTML = '';\n",
              "          dataTable['output_type'] = 'display_data';\n",
              "          await google.colab.output.renderOutput(dataTable, element);\n",
              "          const docLink = document.createElement('div');\n",
              "          docLink.innerHTML = docLinkHtml;\n",
              "          element.appendChild(docLink);\n",
              "        }\n",
              "      </script>\n",
              "    </div>\n",
              "  </div>\n",
              "  "
            ]
          },
          "metadata": {},
          "execution_count": 319
        }
      ]
    },
    {
      "cell_type": "code",
      "source": [
        "df_train.info()"
      ],
      "metadata": {
        "colab": {
          "base_uri": "https://localhost:8080/"
        },
        "id": "jYiwslwdkZQt",
        "outputId": "c3e8ef73-e145-4f49-ef06-bc68411d07ae"
      },
      "execution_count": 320,
      "outputs": [
        {
          "output_type": "stream",
          "name": "stdout",
          "text": [
            "<class 'pandas.core.frame.DataFrame'>\n",
            "RangeIndex: 90766 entries, 0 to 90765\n",
            "Data columns (total 50 columns):\n",
            " #   Column                    Non-Null Count  Dtype \n",
            "---  ------                    --------------  ----- \n",
            " 0   encounter_id2             90766 non-null  int64 \n",
            " 1   patient_nbr2              90766 non-null  int64 \n",
            " 2   race                      90766 non-null  object\n",
            " 3   gender                    90766 non-null  object\n",
            " 4   age                       90766 non-null  object\n",
            " 5   weight                    90766 non-null  object\n",
            " 6   admission_type_id         90766 non-null  int64 \n",
            " 7   discharge_disposition_id  90766 non-null  int64 \n",
            " 8   admission_source_id       90766 non-null  int64 \n",
            " 9   time_in_hospital          90766 non-null  int64 \n",
            " 10  payer_code                90766 non-null  object\n",
            " 11  medical_specialty         90766 non-null  object\n",
            " 12  num_lab_procedures        90766 non-null  int64 \n",
            " 13  num_procedures            90766 non-null  int64 \n",
            " 14  num_medications           90766 non-null  int64 \n",
            " 15  number_outpatient         90766 non-null  int64 \n",
            " 16  number_emergency          90766 non-null  int64 \n",
            " 17  number_inpatient          90766 non-null  int64 \n",
            " 18  diag_1                    90766 non-null  object\n",
            " 19  diag_2                    90766 non-null  object\n",
            " 20  diag_3                    90766 non-null  object\n",
            " 21  number_diagnoses          90766 non-null  int64 \n",
            " 22  max_glu_serum             90766 non-null  object\n",
            " 23  A1Cresult                 90766 non-null  object\n",
            " 24  metformin                 90766 non-null  object\n",
            " 25  repaglinide               90766 non-null  object\n",
            " 26  nateglinide               90766 non-null  object\n",
            " 27  chlorpropamide            90766 non-null  object\n",
            " 28  glimepiride               90766 non-null  object\n",
            " 29  acetohexamide             90766 non-null  object\n",
            " 30  glipizide                 90766 non-null  object\n",
            " 31  glyburide                 90766 non-null  object\n",
            " 32  tolbutamide               90766 non-null  object\n",
            " 33  pioglitazone              90766 non-null  object\n",
            " 34  rosiglitazone             90766 non-null  object\n",
            " 35  acarbose                  90766 non-null  object\n",
            " 36  miglitol                  90766 non-null  object\n",
            " 37  troglitazone              90766 non-null  object\n",
            " 38  tolazamide                90766 non-null  object\n",
            " 39  examide                   90766 non-null  object\n",
            " 40  citoglipton               90766 non-null  object\n",
            " 41  insulin                   90766 non-null  object\n",
            " 42  glyburide-metformin       90766 non-null  object\n",
            " 43  glipizide-metformin       90766 non-null  object\n",
            " 44  glimepiride-pioglitazone  90766 non-null  object\n",
            " 45  metformin-rosiglitazone   90766 non-null  object\n",
            " 46  metformin-pioglitazone    90766 non-null  object\n",
            " 47  change                    90766 non-null  object\n",
            " 48  diabetesMed               90766 non-null  object\n",
            " 49  readmitted                90766 non-null  object\n",
            "dtypes: int64(13), object(37)\n",
            "memory usage: 34.6+ MB\n"
          ]
        }
      ]
    },
    {
      "cell_type": "code",
      "source": [],
      "metadata": {
        "id": "gC62Gjm_ngnd"
      },
      "execution_count": 320,
      "outputs": []
    },
    {
      "cell_type": "markdown",
      "source": [
        "# Missing data handling\n",
        "Before we proceed further, we should be aware of that the \"?\" sign is used to represent the NAN values for this dataset. For example, the first 5 'weight' feature values are all '?', meaning that the values are missing\n",
        "\n",
        "To get rid of the \"?\" sign, we will replace them with np.nan"
      ],
      "metadata": {
        "id": "y1ENsa7jgTgK"
      }
    },
    {
      "cell_type": "code",
      "source": [
        "df_train = df_train.replace(\"?\",np.nan)\n",
        "df_test = df_test.replace(\"?\",np.nan)\n",
        "df_train.head()\n",
        "# we can see below that the first 5 'weight' feature values has become NaN"
      ],
      "metadata": {
        "colab": {
          "base_uri": "https://localhost:8080/",
          "height": 404
        },
        "id": "xJVTc1S9gs-q",
        "outputId": "e532b6a7-c02c-4184-9955-9e3cb5d87767"
      },
      "execution_count": 321,
      "outputs": [
        {
          "output_type": "execute_result",
          "data": {
            "text/plain": [
              "   encounter_id2  patient_nbr2             race  gender       age weight  \\\n",
              "0           5283      48330653        Caucasian  Female   [80-90)    NaN   \n",
              "1           8499      63555809        Caucasian  Female  [90-100)    NaN   \n",
              "2           9441      42519137        Caucasian    Male   [40-50)    NaN   \n",
              "3          20997      89868902  AfricanAmerican  Female   [40-50)    NaN   \n",
              "4          28515      82637321        Caucasian    Male   [50-60)    NaN   \n",
              "\n",
              "   admission_type_id  discharge_disposition_id  admission_source_id  \\\n",
              "0                  2                         1                    4   \n",
              "1                  3                         3                    4   \n",
              "2                  1                         1                    7   \n",
              "3                  1                         1                    7   \n",
              "4                  2                         1                    2   \n",
              "\n",
              "   time_in_hospital  ... citoglipton insulin  glyburide-metformin  \\\n",
              "0                13  ...          No  Steady                   No   \n",
              "1                12  ...          No  Steady                   No   \n",
              "2                 1  ...          No  Steady                   No   \n",
              "3                 9  ...          No  Steady                   No   \n",
              "4                 3  ...          No  Steady                   No   \n",
              "\n",
              "   glipizide-metformin  glimepiride-pioglitazone  metformin-rosiglitazone  \\\n",
              "0                   No                        No                       No   \n",
              "1                   No                        No                       No   \n",
              "2                   No                        No                       No   \n",
              "3                   No                        No                       No   \n",
              "4                   No                        No                       No   \n",
              "\n",
              "   metformin-pioglitazone  change diabetesMed readmitted  \n",
              "0                      No      Ch         Yes         NO  \n",
              "1                      No      Ch         Yes         NO  \n",
              "2                      No      Ch         Yes         NO  \n",
              "3                      No      No         Yes        >30  \n",
              "4                      No      No         Yes        >30  \n",
              "\n",
              "[5 rows x 50 columns]"
            ],
            "text/html": [
              "\n",
              "  <div id=\"df-a0964ea3-e1f4-4b76-b47c-455a663fe6bb\">\n",
              "    <div class=\"colab-df-container\">\n",
              "      <div>\n",
              "<style scoped>\n",
              "    .dataframe tbody tr th:only-of-type {\n",
              "        vertical-align: middle;\n",
              "    }\n",
              "\n",
              "    .dataframe tbody tr th {\n",
              "        vertical-align: top;\n",
              "    }\n",
              "\n",
              "    .dataframe thead th {\n",
              "        text-align: right;\n",
              "    }\n",
              "</style>\n",
              "<table border=\"1\" class=\"dataframe\">\n",
              "  <thead>\n",
              "    <tr style=\"text-align: right;\">\n",
              "      <th></th>\n",
              "      <th>encounter_id2</th>\n",
              "      <th>patient_nbr2</th>\n",
              "      <th>race</th>\n",
              "      <th>gender</th>\n",
              "      <th>age</th>\n",
              "      <th>weight</th>\n",
              "      <th>admission_type_id</th>\n",
              "      <th>discharge_disposition_id</th>\n",
              "      <th>admission_source_id</th>\n",
              "      <th>time_in_hospital</th>\n",
              "      <th>...</th>\n",
              "      <th>citoglipton</th>\n",
              "      <th>insulin</th>\n",
              "      <th>glyburide-metformin</th>\n",
              "      <th>glipizide-metformin</th>\n",
              "      <th>glimepiride-pioglitazone</th>\n",
              "      <th>metformin-rosiglitazone</th>\n",
              "      <th>metformin-pioglitazone</th>\n",
              "      <th>change</th>\n",
              "      <th>diabetesMed</th>\n",
              "      <th>readmitted</th>\n",
              "    </tr>\n",
              "  </thead>\n",
              "  <tbody>\n",
              "    <tr>\n",
              "      <th>0</th>\n",
              "      <td>5283</td>\n",
              "      <td>48330653</td>\n",
              "      <td>Caucasian</td>\n",
              "      <td>Female</td>\n",
              "      <td>[80-90)</td>\n",
              "      <td>NaN</td>\n",
              "      <td>2</td>\n",
              "      <td>1</td>\n",
              "      <td>4</td>\n",
              "      <td>13</td>\n",
              "      <td>...</td>\n",
              "      <td>No</td>\n",
              "      <td>Steady</td>\n",
              "      <td>No</td>\n",
              "      <td>No</td>\n",
              "      <td>No</td>\n",
              "      <td>No</td>\n",
              "      <td>No</td>\n",
              "      <td>Ch</td>\n",
              "      <td>Yes</td>\n",
              "      <td>NO</td>\n",
              "    </tr>\n",
              "    <tr>\n",
              "      <th>1</th>\n",
              "      <td>8499</td>\n",
              "      <td>63555809</td>\n",
              "      <td>Caucasian</td>\n",
              "      <td>Female</td>\n",
              "      <td>[90-100)</td>\n",
              "      <td>NaN</td>\n",
              "      <td>3</td>\n",
              "      <td>3</td>\n",
              "      <td>4</td>\n",
              "      <td>12</td>\n",
              "      <td>...</td>\n",
              "      <td>No</td>\n",
              "      <td>Steady</td>\n",
              "      <td>No</td>\n",
              "      <td>No</td>\n",
              "      <td>No</td>\n",
              "      <td>No</td>\n",
              "      <td>No</td>\n",
              "      <td>Ch</td>\n",
              "      <td>Yes</td>\n",
              "      <td>NO</td>\n",
              "    </tr>\n",
              "    <tr>\n",
              "      <th>2</th>\n",
              "      <td>9441</td>\n",
              "      <td>42519137</td>\n",
              "      <td>Caucasian</td>\n",
              "      <td>Male</td>\n",
              "      <td>[40-50)</td>\n",
              "      <td>NaN</td>\n",
              "      <td>1</td>\n",
              "      <td>1</td>\n",
              "      <td>7</td>\n",
              "      <td>1</td>\n",
              "      <td>...</td>\n",
              "      <td>No</td>\n",
              "      <td>Steady</td>\n",
              "      <td>No</td>\n",
              "      <td>No</td>\n",
              "      <td>No</td>\n",
              "      <td>No</td>\n",
              "      <td>No</td>\n",
              "      <td>Ch</td>\n",
              "      <td>Yes</td>\n",
              "      <td>NO</td>\n",
              "    </tr>\n",
              "    <tr>\n",
              "      <th>3</th>\n",
              "      <td>20997</td>\n",
              "      <td>89868902</td>\n",
              "      <td>AfricanAmerican</td>\n",
              "      <td>Female</td>\n",
              "      <td>[40-50)</td>\n",
              "      <td>NaN</td>\n",
              "      <td>1</td>\n",
              "      <td>1</td>\n",
              "      <td>7</td>\n",
              "      <td>9</td>\n",
              "      <td>...</td>\n",
              "      <td>No</td>\n",
              "      <td>Steady</td>\n",
              "      <td>No</td>\n",
              "      <td>No</td>\n",
              "      <td>No</td>\n",
              "      <td>No</td>\n",
              "      <td>No</td>\n",
              "      <td>No</td>\n",
              "      <td>Yes</td>\n",
              "      <td>&gt;30</td>\n",
              "    </tr>\n",
              "    <tr>\n",
              "      <th>4</th>\n",
              "      <td>28515</td>\n",
              "      <td>82637321</td>\n",
              "      <td>Caucasian</td>\n",
              "      <td>Male</td>\n",
              "      <td>[50-60)</td>\n",
              "      <td>NaN</td>\n",
              "      <td>2</td>\n",
              "      <td>1</td>\n",
              "      <td>2</td>\n",
              "      <td>3</td>\n",
              "      <td>...</td>\n",
              "      <td>No</td>\n",
              "      <td>Steady</td>\n",
              "      <td>No</td>\n",
              "      <td>No</td>\n",
              "      <td>No</td>\n",
              "      <td>No</td>\n",
              "      <td>No</td>\n",
              "      <td>No</td>\n",
              "      <td>Yes</td>\n",
              "      <td>&gt;30</td>\n",
              "    </tr>\n",
              "  </tbody>\n",
              "</table>\n",
              "<p>5 rows × 50 columns</p>\n",
              "</div>\n",
              "      <button class=\"colab-df-convert\" onclick=\"convertToInteractive('df-a0964ea3-e1f4-4b76-b47c-455a663fe6bb')\"\n",
              "              title=\"Convert this dataframe to an interactive table.\"\n",
              "              style=\"display:none;\">\n",
              "        \n",
              "  <svg xmlns=\"http://www.w3.org/2000/svg\" height=\"24px\"viewBox=\"0 0 24 24\"\n",
              "       width=\"24px\">\n",
              "    <path d=\"M0 0h24v24H0V0z\" fill=\"none\"/>\n",
              "    <path d=\"M18.56 5.44l.94 2.06.94-2.06 2.06-.94-2.06-.94-.94-2.06-.94 2.06-2.06.94zm-11 1L8.5 8.5l.94-2.06 2.06-.94-2.06-.94L8.5 2.5l-.94 2.06-2.06.94zm10 10l.94 2.06.94-2.06 2.06-.94-2.06-.94-.94-2.06-.94 2.06-2.06.94z\"/><path d=\"M17.41 7.96l-1.37-1.37c-.4-.4-.92-.59-1.43-.59-.52 0-1.04.2-1.43.59L10.3 9.45l-7.72 7.72c-.78.78-.78 2.05 0 2.83L4 21.41c.39.39.9.59 1.41.59.51 0 1.02-.2 1.41-.59l7.78-7.78 2.81-2.81c.8-.78.8-2.07 0-2.86zM5.41 20L4 18.59l7.72-7.72 1.47 1.35L5.41 20z\"/>\n",
              "  </svg>\n",
              "      </button>\n",
              "      \n",
              "  <style>\n",
              "    .colab-df-container {\n",
              "      display:flex;\n",
              "      flex-wrap:wrap;\n",
              "      gap: 12px;\n",
              "    }\n",
              "\n",
              "    .colab-df-convert {\n",
              "      background-color: #E8F0FE;\n",
              "      border: none;\n",
              "      border-radius: 50%;\n",
              "      cursor: pointer;\n",
              "      display: none;\n",
              "      fill: #1967D2;\n",
              "      height: 32px;\n",
              "      padding: 0 0 0 0;\n",
              "      width: 32px;\n",
              "    }\n",
              "\n",
              "    .colab-df-convert:hover {\n",
              "      background-color: #E2EBFA;\n",
              "      box-shadow: 0px 1px 2px rgba(60, 64, 67, 0.3), 0px 1px 3px 1px rgba(60, 64, 67, 0.15);\n",
              "      fill: #174EA6;\n",
              "    }\n",
              "\n",
              "    [theme=dark] .colab-df-convert {\n",
              "      background-color: #3B4455;\n",
              "      fill: #D2E3FC;\n",
              "    }\n",
              "\n",
              "    [theme=dark] .colab-df-convert:hover {\n",
              "      background-color: #434B5C;\n",
              "      box-shadow: 0px 1px 3px 1px rgba(0, 0, 0, 0.15);\n",
              "      filter: drop-shadow(0px 1px 2px rgba(0, 0, 0, 0.3));\n",
              "      fill: #FFFFFF;\n",
              "    }\n",
              "  </style>\n",
              "\n",
              "      <script>\n",
              "        const buttonEl =\n",
              "          document.querySelector('#df-a0964ea3-e1f4-4b76-b47c-455a663fe6bb button.colab-df-convert');\n",
              "        buttonEl.style.display =\n",
              "          google.colab.kernel.accessAllowed ? 'block' : 'none';\n",
              "\n",
              "        async function convertToInteractive(key) {\n",
              "          const element = document.querySelector('#df-a0964ea3-e1f4-4b76-b47c-455a663fe6bb');\n",
              "          const dataTable =\n",
              "            await google.colab.kernel.invokeFunction('convertToInteractive',\n",
              "                                                     [key], {});\n",
              "          if (!dataTable) return;\n",
              "\n",
              "          const docLinkHtml = 'Like what you see? Visit the ' +\n",
              "            '<a target=\"_blank\" href=https://colab.research.google.com/notebooks/data_table.ipynb>data table notebook</a>'\n",
              "            + ' to learn more about interactive tables.';\n",
              "          element.innerHTML = '';\n",
              "          dataTable['output_type'] = 'display_data';\n",
              "          await google.colab.output.renderOutput(dataTable, element);\n",
              "          const docLink = document.createElement('div');\n",
              "          docLink.innerHTML = docLinkHtml;\n",
              "          element.appendChild(docLink);\n",
              "        }\n",
              "      </script>\n",
              "    </div>\n",
              "  </div>\n",
              "  "
            ]
          },
          "metadata": {},
          "execution_count": 321
        }
      ]
    },
    {
      "cell_type": "code",
      "source": [],
      "metadata": {
        "id": "0oT4lauglGUz"
      },
      "execution_count": 321,
      "outputs": []
    },
    {
      "cell_type": "code",
      "source": [
        "# Checking the % of the missing values in each feature of the training dataset to determine which feature may have too much missing values that may lead any imputation method to produces poor outcome\n",
        "# display the features with more than 20% missing values\n",
        "\n",
        "for col in df_train.columns:\n",
        "  percent_missing = float(df_train[col].isnull().sum() / df_train.shape[0] ) * 100\n",
        "  if(percent_missing >= 20):\n",
        "        print(col, percent_missing,\"%\" )"
      ],
      "metadata": {
        "colab": {
          "base_uri": "https://localhost:8080/"
        },
        "id": "65iApdSJkRav",
        "outputId": "f6a4573a-2a4b-400d-9438-dbb2afa70e26"
      },
      "execution_count": 322,
      "outputs": [
        {
          "output_type": "stream",
          "name": "stdout",
          "text": [
            "weight 96.77632593702488 %\n",
            "payer_code 42.67016283630434 %\n",
            "medical_specialty 48.117136372650556 %\n"
          ]
        }
      ]
    },
    {
      "cell_type": "code",
      "source": [
        "# Plot the missing value count as a bar chart\n",
        "missing = df_train.isnull().sum()\n",
        "missing = missing[missing>0]\n",
        "\n",
        "miss = pd.DataFrame(missing, columns=['missing'])\n",
        "\n",
        "miss = miss.reset_index()\n",
        "\n",
        "\n",
        "miss.sort_values(by='missing', ascending=False, inplace=True)\n",
        "\n",
        "plt.figure(figsize=(15, 10))\n",
        "sns.barplot(y = miss['index'], x= miss.missing, palette='coolwarm')"
      ],
      "metadata": {
        "id": "z3TzjJpgcKOn",
        "colab": {
          "base_uri": "https://localhost:8080/",
          "height": 623
        },
        "outputId": "48b2c2f5-4d1f-4bc2-aa61-49c79ffc1129"
      },
      "execution_count": 323,
      "outputs": [
        {
          "output_type": "execute_result",
          "data": {
            "text/plain": [
              "<matplotlib.axes._subplots.AxesSubplot at 0x7f4a69922f10>"
            ]
          },
          "metadata": {},
          "execution_count": 323
        },
        {
          "output_type": "display_data",
          "data": {
            "text/plain": [
              "<Figure size 1080x720 with 1 Axes>"
            ],
            "image/png": "[encoded data removed]"
          },
          "metadata": {
            "needs_background": "light"
          }
        }
      ]
    },
    {
      "cell_type": "markdown",
      "source": [
        "## As we can see from above 2 cells, feature 'weight' contains approximate 97% of the missing values, meaning that this feature basically cannot help the model training but add complexity. Hence, we can simply drop the 'weight' feature\n",
        "### As for the feature 'Payer code' and 'medical specialty', which contains approximate 40% missing values, we may also choose to drop these features to see if we can get a satisfactory model performance without them \n",
        "#### Note: 'Payer code' feature may be irrelevant to our target attribute (readmitted), as it just indicates which party pays the treatment bill for the patient"
      ],
      "metadata": {
        "id": "4Q4dqaOQm69x"
      }
    },
    {
      "cell_type": "code",
      "source": [
        "#dropping columns with large number of missing values\n",
        "df_train.drop(['weight','payer_code','medical_specialty'], axis = 1,inplace=True)\n",
        "df_test.drop(['weight','payer_code','medical_specialty'], axis = 1,inplace=True)\n",
        "df_train"
      ],
      "metadata": {
        "colab": {
          "base_uri": "https://localhost:8080/",
          "height": 679
        },
        "id": "4BYiKqbRmrj1",
        "outputId": "7cf53e12-2049-4a20-8ac6-9d294ee7aa5e"
      },
      "execution_count": 324,
      "outputs": [
        {
          "output_type": "execute_result",
          "data": {
            "text/plain": [
              "       encounter_id2  patient_nbr2             race  gender       age  \\\n",
              "0               5283      48330653        Caucasian  Female   [80-90)   \n",
              "1               8499      63555809        Caucasian  Female  [90-100)   \n",
              "2               9441      42519137        Caucasian    Male   [40-50)   \n",
              "3              20997      89868902  AfricanAmerican  Female   [40-50)   \n",
              "4              28515      82637321        Caucasian    Male   [50-60)   \n",
              "...              ...           ...              ...     ...       ...   \n",
              "90761      443840309     100162346  AfricanAmerican    Male   [70-80)   \n",
              "90762      443840543      74694092  AfricanAmerican  Female   [80-90)   \n",
              "90763      443846909      41088659        Caucasian    Male   [70-80)   \n",
              "90764      443849927      31693541        Caucasian  Female   [80-90)   \n",
              "90765      443859983     175429180        Caucasian    Male   [70-80)   \n",
              "\n",
              "       admission_type_id  discharge_disposition_id  admission_source_id  \\\n",
              "0                      2                         1                    4   \n",
              "1                      3                         3                    4   \n",
              "2                      1                         1                    7   \n",
              "3                      1                         1                    7   \n",
              "4                      2                         1                    2   \n",
              "...                  ...                       ...                  ...   \n",
              "90761                  1                         3                    7   \n",
              "90762                  1                         4                    5   \n",
              "90763                  1                         1                    7   \n",
              "90764                  2                         3                    7   \n",
              "90765                  1                         1                    7   \n",
              "\n",
              "       time_in_hospital  num_lab_procedures  ...  citoglipton  insulin  \\\n",
              "0                    13                  68  ...           No   Steady   \n",
              "1                    12                  33  ...           No   Steady   \n",
              "2                     1                  51  ...           No   Steady   \n",
              "3                     9                  47  ...           No   Steady   \n",
              "4                     3                  31  ...           No   Steady   \n",
              "...                 ...                 ...  ...          ...      ...   \n",
              "90761                 3                  51  ...           No     Down   \n",
              "90762                 5                  33  ...           No   Steady   \n",
              "90763                 1                  53  ...           No     Down   \n",
              "90764                10                  45  ...           No       Up   \n",
              "90765                 6                  13  ...           No       No   \n",
              "\n",
              "       glyburide-metformin  glipizide-metformin  glimepiride-pioglitazone  \\\n",
              "0                       No                   No                        No   \n",
              "1                       No                   No                        No   \n",
              "2                       No                   No                        No   \n",
              "3                       No                   No                        No   \n",
              "4                       No                   No                        No   \n",
              "...                    ...                  ...                       ...   \n",
              "90761                   No                   No                        No   \n",
              "90762                   No                   No                        No   \n",
              "90763                   No                   No                        No   \n",
              "90764                   No                   No                        No   \n",
              "90765                   No                   No                        No   \n",
              "\n",
              "      metformin-rosiglitazone metformin-pioglitazone change  diabetesMed  \\\n",
              "0                          No                     No     Ch          Yes   \n",
              "1                          No                     No     Ch          Yes   \n",
              "2                          No                     No     Ch          Yes   \n",
              "3                          No                     No     No          Yes   \n",
              "4                          No                     No     No          Yes   \n",
              "...                       ...                    ...    ...          ...   \n",
              "90761                      No                     No     Ch          Yes   \n",
              "90762                      No                     No     No          Yes   \n",
              "90763                      No                     No     Ch          Yes   \n",
              "90764                      No                     No     Ch          Yes   \n",
              "90765                      No                     No     No           No   \n",
              "\n",
              "      readmitted  \n",
              "0             NO  \n",
              "1             NO  \n",
              "2             NO  \n",
              "3            >30  \n",
              "4            >30  \n",
              "...          ...  \n",
              "90761        >30  \n",
              "90762         NO  \n",
              "90763         NO  \n",
              "90764         NO  \n",
              "90765         NO  \n",
              "\n",
              "[90766 rows x 47 columns]"
            ],
            "text/html": [
              "\n",
              "  <div id=\"df-16587f61-3458-420d-be9a-d646a54fc823\">\n",
              "    <div class=\"colab-df-container\">\n",
              "      <div>\n",
              "<style scoped>\n",
              "    .dataframe tbody tr th:only-of-type {\n",
              "        vertical-align: middle;\n",
              "    }\n",
              "\n",
              "    .dataframe tbody tr th {\n",
              "        vertical-align: top;\n",
              "    }\n",
              "\n",
              "    .dataframe thead th {\n",
              "        text-align: right;\n",
              "    }\n",
              "</style>\n",
              "<table border=\"1\" class=\"dataframe\">\n",
              "  <thead>\n",
              "    <tr style=\"text-align: right;\">\n",
              "      <th></th>\n",
              "      <th>encounter_id2</th>\n",
              "      <th>patient_nbr2</th>\n",
              "      <th>race</th>\n",
              "      <th>gender</th>\n",
              "      <th>age</th>\n",
              "      <th>admission_type_id</th>\n",
              "      <th>discharge_disposition_id</th>\n",
              "      <th>admission_source_id</th>\n",
              "      <th>time_in_hospital</th>\n",
              "      <th>num_lab_procedures</th>\n",
              "      <th>...</th>\n",
              "      <th>citoglipton</th>\n",
              "      <th>insulin</th>\n",
              "      <th>glyburide-metformin</th>\n",
              "      <th>glipizide-metformin</th>\n",
              "      <th>glimepiride-pioglitazone</th>\n",
              "      <th>metformin-rosiglitazone</th>\n",
              "      <th>metformin-pioglitazone</th>\n",
              "      <th>change</th>\n",
              "      <th>diabetesMed</th>\n",
              "      <th>readmitted</th>\n",
              "    </tr>\n",
              "  </thead>\n",
              "  <tbody>\n",
              "    <tr>\n",
              "      <th>0</th>\n",
              "      <td>5283</td>\n",
              "      <td>48330653</td>\n",
              "      <td>Caucasian</td>\n",
              "      <td>Female</td>\n",
              "      <td>[80-90)</td>\n",
              "      <td>2</td>\n",
              "      <td>1</td>\n",
              "      <td>4</td>\n",
              "      <td>13</td>\n",
              "      <td>68</td>\n",
              "      <td>...</td>\n",
              "      <td>No</td>\n",
              "      <td>Steady</td>\n",
              "      <td>No</td>\n",
              "      <td>No</td>\n",
              "      <td>No</td>\n",
              "      <td>No</td>\n",
              "      <td>No</td>\n",
              "      <td>Ch</td>\n",
              "      <td>Yes</td>\n",
              "      <td>NO</td>\n",
              "    </tr>\n",
              "    <tr>\n",
              "      <th>1</th>\n",
              "      <td>8499</td>\n",
              "      <td>63555809</td>\n",
              "      <td>Caucasian</td>\n",
              "      <td>Female</td>\n",
              "      <td>[90-100)</td>\n",
              "      <td>3</td>\n",
              "      <td>3</td>\n",
              "      <td>4</td>\n",
              "      <td>12</td>\n",
              "      <td>33</td>\n",
              "      <td>...</td>\n",
              "      <td>No</td>\n",
              "      <td>Steady</td>\n",
              "      <td>No</td>\n",
              "      <td>No</td>\n",
              "      <td>No</td>\n",
              "      <td>No</td>\n",
              "      <td>No</td>\n",
              "      <td>Ch</td>\n",
              "      <td>Yes</td>\n",
              "      <td>NO</td>\n",
              "    </tr>\n",
              "    <tr>\n",
              "      <th>2</th>\n",
              "      <td>9441</td>\n",
              "      <td>42519137</td>\n",
              "      <td>Caucasian</td>\n",
              "      <td>Male</td>\n",
              "      <td>[40-50)</td>\n",
              "      <td>1</td>\n",
              "      <td>1</td>\n",
              "      <td>7</td>\n",
              "      <td>1</td>\n",
              "      <td>51</td>\n",
              "      <td>...</td>\n",
              "      <td>No</td>\n",
              "      <td>Steady</td>\n",
              "      <td>No</td>\n",
              "      <td>No</td>\n",
              "      <td>No</td>\n",
              "      <td>No</td>\n",
              "      <td>No</td>\n",
              "      <td>Ch</td>\n",
              "      <td>Yes</td>\n",
              "      <td>NO</td>\n",
              "    </tr>\n",
              "    <tr>\n",
              "      <th>3</th>\n",
              "      <td>20997</td>\n",
              "      <td>89868902</td>\n",
              "      <td>AfricanAmerican</td>\n",
              "      <td>Female</td>\n",
              "      <td>[40-50)</td>\n",
              "      <td>1</td>\n",
              "      <td>1</td>\n",
              "      <td>7</td>\n",
              "      <td>9</td>\n",
              "      <td>47</td>\n",
              "      <td>...</td>\n",
              "      <td>No</td>\n",
              "      <td>Steady</td>\n",
              "      <td>No</td>\n",
              "      <td>No</td>\n",
              "      <td>No</td>\n",
              "      <td>No</td>\n",
              "      <td>No</td>\n",
              "      <td>No</td>\n",
              "      <td>Yes</td>\n",
              "      <td>&gt;30</td>\n",
              "    </tr>\n",
              "    <tr>\n",
              "      <th>4</th>\n",
              "      <td>28515</td>\n",
              "      <td>82637321</td>\n",
              "      <td>Caucasian</td>\n",
              "      <td>Male</td>\n",
              "      <td>[50-60)</td>\n",
              "      <td>2</td>\n",
              "      <td>1</td>\n",
              "      <td>2</td>\n",
              "      <td>3</td>\n",
              "      <td>31</td>\n",
              "      <td>...</td>\n",
              "      <td>No</td>\n",
              "      <td>Steady</td>\n",
              "      <td>No</td>\n",
              "      <td>No</td>\n",
              "      <td>No</td>\n",
              "      <td>No</td>\n",
              "      <td>No</td>\n",
              "      <td>No</td>\n",
              "      <td>Yes</td>\n",
              "      <td>&gt;30</td>\n",
              "    </tr>\n",
              "    <tr>\n",
              "      <th>...</th>\n",
              "      <td>...</td>\n",
              "      <td>...</td>\n",
              "      <td>...</td>\n",
              "      <td>...</td>\n",
              "      <td>...</td>\n",
              "      <td>...</td>\n",
              "      <td>...</td>\n",
              "      <td>...</td>\n",
              "      <td>...</td>\n",
              "      <td>...</td>\n",
              "      <td>...</td>\n",
              "      <td>...</td>\n",
              "      <td>...</td>\n",
              "      <td>...</td>\n",
              "      <td>...</td>\n",
              "      <td>...</td>\n",
              "      <td>...</td>\n",
              "      <td>...</td>\n",
              "      <td>...</td>\n",
              "      <td>...</td>\n",
              "      <td>...</td>\n",
              "    </tr>\n",
              "    <tr>\n",
              "      <th>90761</th>\n",
              "      <td>443840309</td>\n",
              "      <td>100162346</td>\n",
              "      <td>AfricanAmerican</td>\n",
              "      <td>Male</td>\n",
              "      <td>[70-80)</td>\n",
              "      <td>1</td>\n",
              "      <td>3</td>\n",
              "      <td>7</td>\n",
              "      <td>3</td>\n",
              "      <td>51</td>\n",
              "      <td>...</td>\n",
              "      <td>No</td>\n",
              "      <td>Down</td>\n",
              "      <td>No</td>\n",
              "      <td>No</td>\n",
              "      <td>No</td>\n",
              "      <td>No</td>\n",
              "      <td>No</td>\n",
              "      <td>Ch</td>\n",
              "      <td>Yes</td>\n",
              "      <td>&gt;30</td>\n",
              "    </tr>\n",
              "    <tr>\n",
              "      <th>90762</th>\n",
              "      <td>443840543</td>\n",
              "      <td>74694092</td>\n",
              "      <td>AfricanAmerican</td>\n",
              "      <td>Female</td>\n",
              "      <td>[80-90)</td>\n",
              "      <td>1</td>\n",
              "      <td>4</td>\n",
              "      <td>5</td>\n",
              "      <td>5</td>\n",
              "      <td>33</td>\n",
              "      <td>...</td>\n",
              "      <td>No</td>\n",
              "      <td>Steady</td>\n",
              "      <td>No</td>\n",
              "      <td>No</td>\n",
              "      <td>No</td>\n",
              "      <td>No</td>\n",
              "      <td>No</td>\n",
              "      <td>No</td>\n",
              "      <td>Yes</td>\n",
              "      <td>NO</td>\n",
              "    </tr>\n",
              "    <tr>\n",
              "      <th>90763</th>\n",
              "      <td>443846909</td>\n",
              "      <td>41088659</td>\n",
              "      <td>Caucasian</td>\n",
              "      <td>Male</td>\n",
              "      <td>[70-80)</td>\n",
              "      <td>1</td>\n",
              "      <td>1</td>\n",
              "      <td>7</td>\n",
              "      <td>1</td>\n",
              "      <td>53</td>\n",
              "      <td>...</td>\n",
              "      <td>No</td>\n",
              "      <td>Down</td>\n",
              "      <td>No</td>\n",
              "      <td>No</td>\n",
              "      <td>No</td>\n",
              "      <td>No</td>\n",
              "      <td>No</td>\n",
              "      <td>Ch</td>\n",
              "      <td>Yes</td>\n",
              "      <td>NO</td>\n",
              "    </tr>\n",
              "    <tr>\n",
              "      <th>90764</th>\n",
              "      <td>443849927</td>\n",
              "      <td>31693541</td>\n",
              "      <td>Caucasian</td>\n",
              "      <td>Female</td>\n",
              "      <td>[80-90)</td>\n",
              "      <td>2</td>\n",
              "      <td>3</td>\n",
              "      <td>7</td>\n",
              "      <td>10</td>\n",
              "      <td>45</td>\n",
              "      <td>...</td>\n",
              "      <td>No</td>\n",
              "      <td>Up</td>\n",
              "      <td>No</td>\n",
              "      <td>No</td>\n",
              "      <td>No</td>\n",
              "      <td>No</td>\n",
              "      <td>No</td>\n",
              "      <td>Ch</td>\n",
              "      <td>Yes</td>\n",
              "      <td>NO</td>\n",
              "    </tr>\n",
              "    <tr>\n",
              "      <th>90765</th>\n",
              "      <td>443859983</td>\n",
              "      <td>175429180</td>\n",
              "      <td>Caucasian</td>\n",
              "      <td>Male</td>\n",
              "      <td>[70-80)</td>\n",
              "      <td>1</td>\n",
              "      <td>1</td>\n",
              "      <td>7</td>\n",
              "      <td>6</td>\n",
              "      <td>13</td>\n",
              "      <td>...</td>\n",
              "      <td>No</td>\n",
              "      <td>No</td>\n",
              "      <td>No</td>\n",
              "      <td>No</td>\n",
              "      <td>No</td>\n",
              "      <td>No</td>\n",
              "      <td>No</td>\n",
              "      <td>No</td>\n",
              "      <td>No</td>\n",
              "      <td>NO</td>\n",
              "    </tr>\n",
              "  </tbody>\n",
              "</table>\n",
              "<p>90766 rows × 47 columns</p>\n",
              "</div>\n",
              "      <button class=\"colab-df-convert\" onclick=\"convertToInteractive('df-16587f61-3458-420d-be9a-d646a54fc823')\"\n",
              "              title=\"Convert this dataframe to an interactive table.\"\n",
              "              style=\"display:none;\">\n",
              "        \n",
              "  <svg xmlns=\"http://www.w3.org/2000/svg\" height=\"24px\"viewBox=\"0 0 24 24\"\n",
              "       width=\"24px\">\n",
              "    <path d=\"M0 0h24v24H0V0z\" fill=\"none\"/>\n",
              "    <path d=\"M18.56 5.44l.94 2.06.94-2.06 2.06-.94-2.06-.94-.94-2.06-.94 2.06-2.06.94zm-11 1L8.5 8.5l.94-2.06 2.06-.94-2.06-.94L8.5 2.5l-.94 2.06-2.06.94zm10 10l.94 2.06.94-2.06 2.06-.94-2.06-.94-.94-2.06-.94 2.06-2.06.94z\"/><path d=\"M17.41 7.96l-1.37-1.37c-.4-.4-.92-.59-1.43-.59-.52 0-1.04.2-1.43.59L10.3 9.45l-7.72 7.72c-.78.78-.78 2.05 0 2.83L4 21.41c.39.39.9.59 1.41.59.51 0 1.02-.2 1.41-.59l7.78-7.78 2.81-2.81c.8-.78.8-2.07 0-2.86zM5.41 20L4 18.59l7.72-7.72 1.47 1.35L5.41 20z\"/>\n",
              "  </svg>\n",
              "      </button>\n",
              "      \n",
              "  <style>\n",
              "    .colab-df-container {\n",
              "      display:flex;\n",
              "      flex-wrap:wrap;\n",
              "      gap: 12px;\n",
              "    }\n",
              "\n",
              "    .colab-df-convert {\n",
              "      background-color: #E8F0FE;\n",
              "      border: none;\n",
              "      border-radius: 50%;\n",
              "      cursor: pointer;\n",
              "      display: none;\n",
              "      fill: #1967D2;\n",
              "      height: 32px;\n",
              "      padding: 0 0 0 0;\n",
              "      width: 32px;\n",
              "    }\n",
              "\n",
              "    .colab-df-convert:hover {\n",
              "      background-color: #E2EBFA;\n",
              "      box-shadow: 0px 1px 2px rgba(60, 64, 67, 0.3), 0px 1px 3px 1px rgba(60, 64, 67, 0.15);\n",
              "      fill: #174EA6;\n",
              "    }\n",
              "\n",
              "    [theme=dark] .colab-df-convert {\n",
              "      background-color: #3B4455;\n",
              "      fill: #D2E3FC;\n",
              "    }\n",
              "\n",
              "    [theme=dark] .colab-df-convert:hover {\n",
              "      background-color: #434B5C;\n",
              "      box-shadow: 0px 1px 3px 1px rgba(0, 0, 0, 0.15);\n",
              "      filter: drop-shadow(0px 1px 2px rgba(0, 0, 0, 0.3));\n",
              "      fill: #FFFFFF;\n",
              "    }\n",
              "  </style>\n",
              "\n",
              "      <script>\n",
              "        const buttonEl =\n",
              "          document.querySelector('#df-16587f61-3458-420d-be9a-d646a54fc823 button.colab-df-convert');\n",
              "        buttonEl.style.display =\n",
              "          google.colab.kernel.accessAllowed ? 'block' : 'none';\n",
              "\n",
              "        async function convertToInteractive(key) {\n",
              "          const element = document.querySelector('#df-16587f61-3458-420d-be9a-d646a54fc823');\n",
              "          const dataTable =\n",
              "            await google.colab.kernel.invokeFunction('convertToInteractive',\n",
              "                                                     [key], {});\n",
              "          if (!dataTable) return;\n",
              "\n",
              "          const docLinkHtml = 'Like what you see? Visit the ' +\n",
              "            '<a target=\"_blank\" href=https://colab.research.google.com/notebooks/data_table.ipynb>data table notebook</a>'\n",
              "            + ' to learn more about interactive tables.';\n",
              "          element.innerHTML = '';\n",
              "          dataTable['output_type'] = 'display_data';\n",
              "          await google.colab.output.renderOutput(dataTable, element);\n",
              "          const docLink = document.createElement('div');\n",
              "          docLink.innerHTML = docLinkHtml;\n",
              "          element.appendChild(docLink);\n",
              "        }\n",
              "      </script>\n",
              "    </div>\n",
              "  </div>\n",
              "  "
            ]
          },
          "metadata": {},
          "execution_count": 324
        }
      ]
    },
    {
      "cell_type": "markdown",
      "source": [
        "**Fix missing values in Gender**\n",
        "\n",
        "**Note: The missing value in gender is represented as 'Unknown/Invalid' as shown below**"
      ],
      "metadata": {
        "id": "e08wZwHqrHig"
      }
    },
    {
      "cell_type": "code",
      "source": [
        "sns.countplot(x = \"gender\", data = df_train)\n",
        "plt.title(\"Distribution of Number of Gender\")\n",
        "plt.show()\n",
        "\n",
        "print(\"Proportions of Race Value\")\n",
        "print(df_train.gender.value_counts())"
      ],
      "metadata": {
        "colab": {
          "base_uri": "https://localhost:8080/",
          "height": 382
        },
        "id": "0mdo6zTPrDm0",
        "outputId": "ff468bfa-b883-4a4c-8374-369f60d220e3"
      },
      "execution_count": 325,
      "outputs": [
        {
          "output_type": "display_data",
          "data": {
            "text/plain": [
              "<Figure size 432x288 with 1 Axes>"
            ],
            "image/png": "[encoded data removed]"
          },
          "metadata": {
            "needs_background": "light"
          }
        },
        {
          "output_type": "stream",
          "name": "stdout",
          "text": [
            "Proportions of Race Value\n",
            "Female             48748\n",
            "Male               42015\n",
            "Unknown/Invalid        3\n",
            "Name: gender, dtype: int64\n"
          ]
        }
      ]
    },
    {
      "cell_type": "code",
      "source": [
        "# As we can see from above, since we only has 3 missing values for the 'gender' features, we can simply drop the 3 records with missing gender value\n",
        "df_train = df_train.drop(df_train.loc[df_train[\"gender\"]==\"Unknown/Invalid\"].index, axis=0)\n",
        "df_test = df_test.drop(df_test.loc[df_test[\"gender\"]==\"Unknown/Invalid\"].index, axis=0)\n",
        "\n",
        "# Plot the distribution of gender with respect to the target attribute 'readmitted'\n",
        "sns.countplot(x = \"gender\", hue = \"readmitted\", data = df_train)\n",
        "plt.title(\"Gender VS Readmitted\")\n",
        "plt.show()\n"
      ],
      "metadata": {
        "colab": {
          "base_uri": "https://localhost:8080/",
          "height": 295
        },
        "id": "MYl5W6qHr7nZ",
        "outputId": "21614e2f-55f0-4fcc-dc36-775520e6a8a3"
      },
      "execution_count": 326,
      "outputs": [
        {
          "output_type": "display_data",
          "data": {
            "text/plain": [
              "<Figure size 432x288 with 1 Axes>"
            ],
            "image/png": "[encoded data removed]"
          },
          "metadata": {
            "needs_background": "light"
          }
        }
      ]
    },
    {
      "cell_type": "markdown",
      "source": [
        "**Fix missing values in Race**"
      ],
      "metadata": {
        "id": "VwdXmx_o4WjG"
      }
    },
    {
      "cell_type": "code",
      "source": [
        "sns.countplot(x=df_train.race, data = df_train)\n",
        "plt.xticks(rotation=90)\n",
        "plt.title(\"Number of Race values\")\n",
        "plt.show()\n",
        "\n",
        "print(\"Proportion of Race\")\n",
        "print(df_train.race.value_counts()*100)\n",
        "print(df_train.race.unique())"
      ],
      "metadata": {
        "colab": {
          "base_uri": "https://localhost:8080/",
          "height": 507
        },
        "id": "dxKTXl-U4bDO",
        "outputId": "045a234a-99f6-4384-8f32-9aae300ce8ab"
      },
      "execution_count": 327,
      "outputs": [
        {
          "output_type": "display_data",
          "data": {
            "text/plain": [
              "<Figure size 432x288 with 1 Axes>"
            ],
            "image/png": "[encoded data removed]"
          },
          "metadata": {
            "needs_background": "light"
          }
        },
        {
          "output_type": "stream",
          "name": "stdout",
          "text": [
            "Proportion of Race\n",
            "Caucasian          6751500\n",
            "AfricanAmerican    1726700\n",
            "Hispanic            183400\n",
            "Other               135700\n",
            "Asian                58500\n",
            "Name: race, dtype: int64\n",
            "['Caucasian' 'AfricanAmerican' nan 'Other' 'Asian' 'Hispanic']\n"
          ]
        }
      ]
    },
    {
      "cell_type": "code",
      "source": [
        "# Since we have a feature value 'others' in the race feature, we can simply assign the records with missing 'race' value to have the 'other' race feature value\n",
        "df_train['race'] = df_train['race'].replace(np.nan, 'Other')\n",
        "df_test['race'] = df_test['race'].replace(np.nan, 'Other')\n",
        "\n",
        "df_train.race.unique()"
      ],
      "metadata": {
        "colab": {
          "base_uri": "https://localhost:8080/"
        },
        "id": "_Z4MwBwF5USL",
        "outputId": "347703a1-5fd3-43d0-96c1-f370d7bce894"
      },
      "execution_count": 328,
      "outputs": [
        {
          "output_type": "execute_result",
          "data": {
            "text/plain": [
              "array(['Caucasian', 'AfricanAmerican', 'Other', 'Asian', 'Hispanic'],\n",
              "      dtype=object)"
            ]
          },
          "metadata": {},
          "execution_count": 328
        }
      ]
    },
    {
      "cell_type": "code",
      "source": [
        "sns.countplot(x=\"race\", hue= \"readmitted\", data = df_train)\n",
        "plt.title(\"Race VS Readmitted\")\n",
        "plt.show()"
      ],
      "metadata": {
        "colab": {
          "base_uri": "https://localhost:8080/",
          "height": 295
        },
        "id": "i-pXu4SS6EcK",
        "outputId": "4043a8f8-f18c-4027-c382-c4fb6cab0b45"
      },
      "execution_count": 329,
      "outputs": [
        {
          "output_type": "display_data",
          "data": {
            "text/plain": [
              "<Figure size 432x288 with 1 Axes>"
            ],
            "image/png": "[encoded data removed]"
          },
          "metadata": {
            "needs_background": "light"
          }
        }
      ]
    },
    {
      "cell_type": "markdown",
      "source": [
        "## Filling missing vales in features 'Diagnosis 1',  'Diagnosis 2', and 'Diagnosis 3' "
      ],
      "metadata": {
        "id": "3OWaBZgsWaIJ"
      }
    },
    {
      "cell_type": "code",
      "source": [
        "# filling in a fixed categorical value 'NaN' for each missing value in the 3 features\n",
        "diag_list = ['diag_1','diag_2','diag_3']\n",
        "\n",
        "for col in diag_list:\n",
        "    df_train[col].fillna('NaN', inplace=True)"
      ],
      "metadata": {
        "id": "-pJ6zJgF6n3J"
      },
      "execution_count": 330,
      "outputs": []
    },
    {
      "cell_type": "markdown",
      "source": [
        "# Data Pre-Processing, Feature Engineering, and Visualization"
      ],
      "metadata": {
        "id": "-mOgwaeGuTfv"
      }
    },
    {
      "cell_type": "code",
      "source": [
        "# Encode target attribute\n",
        "df_train.readmitted.value_counts()"
      ],
      "metadata": {
        "id": "ojdcR3nPugFT",
        "colab": {
          "base_uri": "https://localhost:8080/"
        },
        "outputId": "49d0148c-606a-44f0-fa79-eb98e174824c"
      },
      "execution_count": 331,
      "outputs": [
        {
          "output_type": "execute_result",
          "data": {
            "text/plain": [
              "NO     49358\n",
              ">30    31232\n",
              "<30    10173\n",
              "Name: readmitted, dtype: int64"
            ]
          },
          "metadata": {},
          "execution_count": 331
        }
      ]
    },
    {
      "cell_type": "code",
      "source": [
        "# Encode target attribute with \n",
        "# 'No' (not readmitted again) being 0\n",
        "# '>30' (readmitted to the hospital after 30 days) being 1\n",
        "# '<30' (readmitted to the hospital within 30 days) being 2\n",
        "\n",
        "df_train['readmitted'] = df_train['readmitted'].replace(['NO','>30','<30'], [0,1,2])\n",
        "df_train.readmitted.value_counts()"
      ],
      "metadata": {
        "id": "Tdv8iunzwBcr",
        "colab": {
          "base_uri": "https://localhost:8080/"
        },
        "outputId": "50af450c-71fe-4e6a-bc30-9a2bb067afff"
      },
      "execution_count": 332,
      "outputs": [
        {
          "output_type": "execute_result",
          "data": {
            "text/plain": [
              "0    49358\n",
              "1    31232\n",
              "2    10173\n",
              "Name: readmitted, dtype: int64"
            ]
          },
          "metadata": {},
          "execution_count": 332
        }
      ]
    },
    {
      "cell_type": "code",
      "source": [
        "# NOte: we need to convert the predicted target numeric numbers back to its corresponding nominal values after training the model and made the prediction"
      ],
      "metadata": {
        "id": "dIzLrd3WzvhF"
      },
      "execution_count": 333,
      "outputs": []
    },
    {
      "cell_type": "markdown",
      "source": [
        "**Convert the age feature**\n",
        "\n",
        "For the feature age, which has 10 unique categorical values, we can convert this categorical feature into numeric one by replacing those age ranges with the middle age for each age range: \n",
        "\n",
        "Ex: [0,10) will be replaced by 5\n"
      ],
      "metadata": {
        "id": "FiJxlbTcwDxd"
      }
    },
    {
      "cell_type": "code",
      "source": [
        "df_train.age.value_counts()"
      ],
      "metadata": {
        "id": "WJ852VLIwqvD",
        "colab": {
          "base_uri": "https://localhost:8080/"
        },
        "outputId": "2f1ce7e3-5996-46bb-d5f9-5ec0a256bb48"
      },
      "execution_count": 334,
      "outputs": [
        {
          "output_type": "execute_result",
          "data": {
            "text/plain": [
              "[70-80)     23307\n",
              "[60-70)     20027\n",
              "[50-60)     15421\n",
              "[80-90)     15186\n",
              "[40-50)      8640\n",
              "[30-40)      3403\n",
              "[90-100)     2481\n",
              "[20-30)      1496\n",
              "[10-20)       644\n",
              "[0-10)        158\n",
              "Name: age, dtype: int64"
            ]
          },
          "metadata": {},
          "execution_count": 334
        }
      ]
    },
    {
      "cell_type": "code",
      "source": [
        "df_train.age = df_train.age.replace({\"[70-80)\":75,\n",
        "                         \"[60-70)\":65,\n",
        "                         \"[50-60)\":55,\n",
        "                         \"[80-90)\":85,\n",
        "                         \"[40-50)\":45,\n",
        "                         \"[30-40)\":35,\n",
        "                         \"[90-100)\":95,\n",
        "                         \"[20-30)\":25,\n",
        "                         \"[10-20)\":15,\n",
        "                         \"[0-10)\":5})\n",
        "\n",
        "df_test.age = df_test.age.replace({\"[70-80)\":75,\n",
        "                         \"[60-70)\":65,\n",
        "                         \"[50-60)\":55,\n",
        "                         \"[80-90)\":85,\n",
        "                         \"[40-50)\":45,\n",
        "                         \"[30-40)\":35,\n",
        "                         \"[90-100)\":95,\n",
        "                         \"[20-30)\":25,\n",
        "                         \"[10-20)\":15,\n",
        "                         \"[0-10)\":5})\n",
        "\n",
        "plt.figure(figsize=(12,6))\n",
        "sns.countplot(x=\"age\", data = df_train)\n",
        "\n",
        "plt.show()"
      ],
      "metadata": {
        "id": "KzOfEOcJwBpu",
        "colab": {
          "base_uri": "https://localhost:8080/",
          "height": 388
        },
        "outputId": "1c7edda5-0e60-4428-b267-6d32e02ac616"
      },
      "execution_count": 335,
      "outputs": [
        {
          "output_type": "display_data",
          "data": {
            "text/plain": [
              "<Figure size 864x432 with 1 Axes>"
            ],
            "image/png": "[encoded data removed]"
          },
          "metadata": {
            "needs_background": "light"
          }
        }
      ]
    },
    {
      "cell_type": "code",
      "source": [
        "# Notes from professor (please ignore this cell):\n",
        "# do not standardize any ordinal data\n",
        "# standardize based on model selection: no standardize for tree model and standardize for Knn and svm (better)\n"
      ],
      "metadata": {
        "id": "pQCp9B5J6czC"
      },
      "execution_count": 336,
      "outputs": []
    },
    {
      "cell_type": "markdown",
      "source": [
        "### Encode the 23 features for medications\n",
        "The 23 features share the same 4 categorical values:\n",
        "\n",
        "“up” if the dosage was increased during the encounter, \n",
        "\n",
        "“down” if the dosage was decreased, \n",
        "\n",
        "“steady” if the dosage did not change, \n",
        "\n",
        "and “no” if the drug was not prescribed\n",
        "\n",
        "We can make\n",
        "\n",
        "> no: 0\n",
        "\n",
        "> down: 1\n",
        "\n",
        "> steady: 2\n",
        "\n",
        "> up: 3"
      ],
      "metadata": {
        "id": "31cAi9LM8KoI"
      }
    },
    {
      "cell_type": "code",
      "source": [
        "# get the list of medication\n",
        "medication = ['metformin', 'repaglinide', 'nateglinide', 'chlorpropamide', 'glimepiride', 'glipizide', 'glyburide', 'pioglitazone', 'rosiglitazone', 'acarbose', \n",
        "              'miglitol', 'citoglipton', 'insulin', 'glyburide-metformin', 'tolazamide', 'examide', 'metformin-pioglitazone','metformin-rosiglitazone', 'glimepiride-pioglitazone', \n",
        "              'glipizide-metformin', 'troglitazone', 'tolbutamide', 'acetohexamide']\n",
        "df_train[medication]"
      ],
      "metadata": {
        "id": "85et60ej9W92",
        "colab": {
          "base_uri": "https://localhost:8080/",
          "height": 505
        },
        "outputId": "b6dd2a7a-8df6-45b8-d999-ad08919bcb6e"
      },
      "execution_count": 337,
      "outputs": [
        {
          "output_type": "execute_result",
          "data": {
            "text/plain": [
              "      metformin repaglinide nateglinide chlorpropamide glimepiride glipizide  \\\n",
              "0            No          No          No             No          No    Steady   \n",
              "1            No          No          No             No          No        No   \n",
              "2            No          No          No             No          No    Steady   \n",
              "3            No          No          No             No          No        No   \n",
              "4            No          No          No             No          No        No   \n",
              "...         ...         ...         ...            ...         ...       ...   \n",
              "90761    Steady          No          No             No          No        No   \n",
              "90762        No          No          No             No          No        No   \n",
              "90763    Steady          No          No             No          No        No   \n",
              "90764        No          No          No             No          No    Steady   \n",
              "90765        No          No          No             No          No        No   \n",
              "\n",
              "      glyburide pioglitazone rosiglitazone acarbose  ... glyburide-metformin  \\\n",
              "0            No           No            No       No  ...                  No   \n",
              "1            No           No        Steady       No  ...                  No   \n",
              "2            No           No            No       No  ...                  No   \n",
              "3            No           No            No       No  ...                  No   \n",
              "4            No           No            No       No  ...                  No   \n",
              "...         ...          ...           ...      ...  ...                 ...   \n",
              "90761        No           No            No       No  ...                  No   \n",
              "90762        No           No            No       No  ...                  No   \n",
              "90763        No           No            No       No  ...                  No   \n",
              "90764        No       Steady            No       No  ...                  No   \n",
              "90765        No           No            No       No  ...                  No   \n",
              "\n",
              "      tolazamide examide metformin-pioglitazone metformin-rosiglitazone  \\\n",
              "0             No      No                     No                      No   \n",
              "1             No      No                     No                      No   \n",
              "2             No      No                     No                      No   \n",
              "3             No      No                     No                      No   \n",
              "4             No      No                     No                      No   \n",
              "...          ...     ...                    ...                     ...   \n",
              "90761         No      No                     No                      No   \n",
              "90762         No      No                     No                      No   \n",
              "90763         No      No                     No                      No   \n",
              "90764         No      No                     No                      No   \n",
              "90765         No      No                     No                      No   \n",
              "\n",
              "      glimepiride-pioglitazone glipizide-metformin troglitazone tolbutamide  \\\n",
              "0                           No                  No           No          No   \n",
              "1                           No                  No           No          No   \n",
              "2                           No                  No           No          No   \n",
              "3                           No                  No           No          No   \n",
              "4                           No                  No           No          No   \n",
              "...                        ...                 ...          ...         ...   \n",
              "90761                       No                  No           No          No   \n",
              "90762                       No                  No           No          No   \n",
              "90763                       No                  No           No          No   \n",
              "90764                       No                  No           No          No   \n",
              "90765                       No                  No           No          No   \n",
              "\n",
              "      acetohexamide  \n",
              "0                No  \n",
              "1                No  \n",
              "2                No  \n",
              "3                No  \n",
              "4                No  \n",
              "...             ...  \n",
              "90761            No  \n",
              "90762            No  \n",
              "90763            No  \n",
              "90764            No  \n",
              "90765            No  \n",
              "\n",
              "[90763 rows x 23 columns]"
            ],
            "text/html": [
              "\n",
              "  <div id=\"df-37042f87-0c13-41a9-adcb-63e013736559\">\n",
              "    <div class=\"colab-df-container\">\n",
              "      <div>\n",
              "<style scoped>\n",
              "    .dataframe tbody tr th:only-of-type {\n",
              "        vertical-align: middle;\n",
              "    }\n",
              "\n",
              "    .dataframe tbody tr th {\n",
              "        vertical-align: top;\n",
              "    }\n",
              "\n",
              "    .dataframe thead th {\n",
              "        text-align: right;\n",
              "    }\n",
              "</style>\n",
              "<table border=\"1\" class=\"dataframe\">\n",
              "  <thead>\n",
              "    <tr style=\"text-align: right;\">\n",
              "      <th></th>\n",
              "      <th>metformin</th>\n",
              "      <th>repaglinide</th>\n",
              "      <th>nateglinide</th>\n",
              "      <th>chlorpropamide</th>\n",
              "      <th>glimepiride</th>\n",
              "      <th>glipizide</th>\n",
              "      <th>glyburide</th>\n",
              "      <th>pioglitazone</th>\n",
              "      <th>rosiglitazone</th>\n",
              "      <th>acarbose</th>\n",
              "      <th>...</th>\n",
              "      <th>glyburide-metformin</th>\n",
              "      <th>tolazamide</th>\n",
              "      <th>examide</th>\n",
              "      <th>metformin-pioglitazone</th>\n",
              "      <th>metformin-rosiglitazone</th>\n",
              "      <th>glimepiride-pioglitazone</th>\n",
              "      <th>glipizide-metformin</th>\n",
              "      <th>troglitazone</th>\n",
              "      <th>tolbutamide</th>\n",
              "      <th>acetohexamide</th>\n",
              "    </tr>\n",
              "  </thead>\n",
              "  <tbody>\n",
              "    <tr>\n",
              "      <th>0</th>\n",
              "      <td>No</td>\n",
              "      <td>No</td>\n",
              "      <td>No</td>\n",
              "      <td>No</td>\n",
              "      <td>No</td>\n",
              "      <td>Steady</td>\n",
              "      <td>No</td>\n",
              "      <td>No</td>\n",
              "      <td>No</td>\n",
              "      <td>No</td>\n",
              "      <td>...</td>\n",
              "      <td>No</td>\n",
              "      <td>No</td>\n",
              "      <td>No</td>\n",
              "      <td>No</td>\n",
              "      <td>No</td>\n",
              "      <td>No</td>\n",
              "      <td>No</td>\n",
              "      <td>No</td>\n",
              "      <td>No</td>\n",
              "      <td>No</td>\n",
              "    </tr>\n",
              "    <tr>\n",
              "      <th>1</th>\n",
              "      <td>No</td>\n",
              "      <td>No</td>\n",
              "      <td>No</td>\n",
              "      <td>No</td>\n",
              "      <td>No</td>\n",
              "      <td>No</td>\n",
              "      <td>No</td>\n",
              "      <td>No</td>\n",
              "      <td>Steady</td>\n",
              "      <td>No</td>\n",
              "      <td>...</td>\n",
              "      <td>No</td>\n",
              "      <td>No</td>\n",
              "      <td>No</td>\n",
              "      <td>No</td>\n",
              "      <td>No</td>\n",
              "      <td>No</td>\n",
              "      <td>No</td>\n",
              "      <td>No</td>\n",
              "      <td>No</td>\n",
              "      <td>No</td>\n",
              "    </tr>\n",
              "    <tr>\n",
              "      <th>2</th>\n",
              "      <td>No</td>\n",
              "      <td>No</td>\n",
              "      <td>No</td>\n",
              "      <td>No</td>\n",
              "      <td>No</td>\n",
              "      <td>Steady</td>\n",
              "      <td>No</td>\n",
              "      <td>No</td>\n",
              "      <td>No</td>\n",
              "      <td>No</td>\n",
              "      <td>...</td>\n",
              "      <td>No</td>\n",
              "      <td>No</td>\n",
              "      <td>No</td>\n",
              "      <td>No</td>\n",
              "      <td>No</td>\n",
              "      <td>No</td>\n",
              "      <td>No</td>\n",
              "      <td>No</td>\n",
              "      <td>No</td>\n",
              "      <td>No</td>\n",
              "    </tr>\n",
              "    <tr>\n",
              "      <th>3</th>\n",
              "      <td>No</td>\n",
              "      <td>No</td>\n",
              "      <td>No</td>\n",
              "      <td>No</td>\n",
              "      <td>No</td>\n",
              "      <td>No</td>\n",
              "      <td>No</td>\n",
              "      <td>No</td>\n",
              "      <td>No</td>\n",
              "      <td>No</td>\n",
              "      <td>...</td>\n",
              "      <td>No</td>\n",
              "      <td>No</td>\n",
              "      <td>No</td>\n",
              "      <td>No</td>\n",
              "      <td>No</td>\n",
              "      <td>No</td>\n",
              "      <td>No</td>\n",
              "      <td>No</td>\n",
              "      <td>No</td>\n",
              "      <td>No</td>\n",
              "    </tr>\n",
              "    <tr>\n",
              "      <th>4</th>\n",
              "      <td>No</td>\n",
              "      <td>No</td>\n",
              "      <td>No</td>\n",
              "      <td>No</td>\n",
              "      <td>No</td>\n",
              "      <td>No</td>\n",
              "      <td>No</td>\n",
              "      <td>No</td>\n",
              "      <td>No</td>\n",
              "      <td>No</td>\n",
              "      <td>...</td>\n",
              "      <td>No</td>\n",
              "      <td>No</td>\n",
              "      <td>No</td>\n",
              "      <td>No</td>\n",
              "      <td>No</td>\n",
              "      <td>No</td>\n",
              "      <td>No</td>\n",
              "      <td>No</td>\n",
              "      <td>No</td>\n",
              "      <td>No</td>\n",
              "    </tr>\n",
              "    <tr>\n",
              "      <th>...</th>\n",
              "      <td>...</td>\n",
              "      <td>...</td>\n",
              "      <td>...</td>\n",
              "      <td>...</td>\n",
              "      <td>...</td>\n",
              "      <td>...</td>\n",
              "      <td>...</td>\n",
              "      <td>...</td>\n",
              "      <td>...</td>\n",
              "      <td>...</td>\n",
              "      <td>...</td>\n",
              "      <td>...</td>\n",
              "      <td>...</td>\n",
              "      <td>...</td>\n",
              "      <td>...</td>\n",
              "      <td>...</td>\n",
              "      <td>...</td>\n",
              "      <td>...</td>\n",
              "      <td>...</td>\n",
              "      <td>...</td>\n",
              "      <td>...</td>\n",
              "    </tr>\n",
              "    <tr>\n",
              "      <th>90761</th>\n",
              "      <td>Steady</td>\n",
              "      <td>No</td>\n",
              "      <td>No</td>\n",
              "      <td>No</td>\n",
              "      <td>No</td>\n",
              "      <td>No</td>\n",
              "      <td>No</td>\n",
              "      <td>No</td>\n",
              "      <td>No</td>\n",
              "      <td>No</td>\n",
              "      <td>...</td>\n",
              "      <td>No</td>\n",
              "      <td>No</td>\n",
              "      <td>No</td>\n",
              "      <td>No</td>\n",
              "      <td>No</td>\n",
              "      <td>No</td>\n",
              "      <td>No</td>\n",
              "      <td>No</td>\n",
              "      <td>No</td>\n",
              "      <td>No</td>\n",
              "    </tr>\n",
              "    <tr>\n",
              "      <th>90762</th>\n",
              "      <td>No</td>\n",
              "      <td>No</td>\n",
              "      <td>No</td>\n",
              "      <td>No</td>\n",
              "      <td>No</td>\n",
              "      <td>No</td>\n",
              "      <td>No</td>\n",
              "      <td>No</td>\n",
              "      <td>No</td>\n",
              "      <td>No</td>\n",
              "      <td>...</td>\n",
              "      <td>No</td>\n",
              "      <td>No</td>\n",
              "      <td>No</td>\n",
              "      <td>No</td>\n",
              "      <td>No</td>\n",
              "      <td>No</td>\n",
              "      <td>No</td>\n",
              "      <td>No</td>\n",
              "      <td>No</td>\n",
              "      <td>No</td>\n",
              "    </tr>\n",
              "    <tr>\n",
              "      <th>90763</th>\n",
              "      <td>Steady</td>\n",
              "      <td>No</td>\n",
              "      <td>No</td>\n",
              "      <td>No</td>\n",
              "      <td>No</td>\n",
              "      <td>No</td>\n",
              "      <td>No</td>\n",
              "      <td>No</td>\n",
              "      <td>No</td>\n",
              "      <td>No</td>\n",
              "      <td>...</td>\n",
              "      <td>No</td>\n",
              "      <td>No</td>\n",
              "      <td>No</td>\n",
              "      <td>No</td>\n",
              "      <td>No</td>\n",
              "      <td>No</td>\n",
              "      <td>No</td>\n",
              "      <td>No</td>\n",
              "      <td>No</td>\n",
              "      <td>No</td>\n",
              "    </tr>\n",
              "    <tr>\n",
              "      <th>90764</th>\n",
              "      <td>No</td>\n",
              "      <td>No</td>\n",
              "      <td>No</td>\n",
              "      <td>No</td>\n",
              "      <td>No</td>\n",
              "      <td>Steady</td>\n",
              "      <td>No</td>\n",
              "      <td>Steady</td>\n",
              "      <td>No</td>\n",
              "      <td>No</td>\n",
              "      <td>...</td>\n",
              "      <td>No</td>\n",
              "      <td>No</td>\n",
              "      <td>No</td>\n",
              "      <td>No</td>\n",
              "      <td>No</td>\n",
              "      <td>No</td>\n",
              "      <td>No</td>\n",
              "      <td>No</td>\n",
              "      <td>No</td>\n",
              "      <td>No</td>\n",
              "    </tr>\n",
              "    <tr>\n",
              "      <th>90765</th>\n",
              "      <td>No</td>\n",
              "      <td>No</td>\n",
              "      <td>No</td>\n",
              "      <td>No</td>\n",
              "      <td>No</td>\n",
              "      <td>No</td>\n",
              "      <td>No</td>\n",
              "      <td>No</td>\n",
              "      <td>No</td>\n",
              "      <td>No</td>\n",
              "      <td>...</td>\n",
              "      <td>No</td>\n",
              "      <td>No</td>\n",
              "      <td>No</td>\n",
              "      <td>No</td>\n",
              "      <td>No</td>\n",
              "      <td>No</td>\n",
              "      <td>No</td>\n",
              "      <td>No</td>\n",
              "      <td>No</td>\n",
              "      <td>No</td>\n",
              "    </tr>\n",
              "  </tbody>\n",
              "</table>\n",
              "<p>90763 rows × 23 columns</p>\n",
              "</div>\n",
              "      <button class=\"colab-df-convert\" onclick=\"convertToInteractive('df-37042f87-0c13-41a9-adcb-63e013736559')\"\n",
              "              title=\"Convert this dataframe to an interactive table.\"\n",
              "              style=\"display:none;\">\n",
              "        \n",
              "  <svg xmlns=\"http://www.w3.org/2000/svg\" height=\"24px\"viewBox=\"0 0 24 24\"\n",
              "       width=\"24px\">\n",
              "    <path d=\"M0 0h24v24H0V0z\" fill=\"none\"/>\n",
              "    <path d=\"M18.56 5.44l.94 2.06.94-2.06 2.06-.94-2.06-.94-.94-2.06-.94 2.06-2.06.94zm-11 1L8.5 8.5l.94-2.06 2.06-.94-2.06-.94L8.5 2.5l-.94 2.06-2.06.94zm10 10l.94 2.06.94-2.06 2.06-.94-2.06-.94-.94-2.06-.94 2.06-2.06.94z\"/><path d=\"M17.41 7.96l-1.37-1.37c-.4-.4-.92-.59-1.43-.59-.52 0-1.04.2-1.43.59L10.3 9.45l-7.72 7.72c-.78.78-.78 2.05 0 2.83L4 21.41c.39.39.9.59 1.41.59.51 0 1.02-.2 1.41-.59l7.78-7.78 2.81-2.81c.8-.78.8-2.07 0-2.86zM5.41 20L4 18.59l7.72-7.72 1.47 1.35L5.41 20z\"/>\n",
              "  </svg>\n",
              "      </button>\n",
              "      \n",
              "  <style>\n",
              "    .colab-df-container {\n",
              "      display:flex;\n",
              "      flex-wrap:wrap;\n",
              "      gap: 12px;\n",
              "    }\n",
              "\n",
              "    .colab-df-convert {\n",
              "      background-color: #E8F0FE;\n",
              "      border: none;\n",
              "      border-radius: 50%;\n",
              "      cursor: pointer;\n",
              "      display: none;\n",
              "      fill: #1967D2;\n",
              "      height: 32px;\n",
              "      padding: 0 0 0 0;\n",
              "      width: 32px;\n",
              "    }\n",
              "\n",
              "    .colab-df-convert:hover {\n",
              "      background-color: #E2EBFA;\n",
              "      box-shadow: 0px 1px 2px rgba(60, 64, 67, 0.3), 0px 1px 3px 1px rgba(60, 64, 67, 0.15);\n",
              "      fill: #174EA6;\n",
              "    }\n",
              "\n",
              "    [theme=dark] .colab-df-convert {\n",
              "      background-color: #3B4455;\n",
              "      fill: #D2E3FC;\n",
              "    }\n",
              "\n",
              "    [theme=dark] .colab-df-convert:hover {\n",
              "      background-color: #434B5C;\n",
              "      box-shadow: 0px 1px 3px 1px rgba(0, 0, 0, 0.15);\n",
              "      filter: drop-shadow(0px 1px 2px rgba(0, 0, 0, 0.3));\n",
              "      fill: #FFFFFF;\n",
              "    }\n",
              "  </style>\n",
              "\n",
              "      <script>\n",
              "        const buttonEl =\n",
              "          document.querySelector('#df-37042f87-0c13-41a9-adcb-63e013736559 button.colab-df-convert');\n",
              "        buttonEl.style.display =\n",
              "          google.colab.kernel.accessAllowed ? 'block' : 'none';\n",
              "\n",
              "        async function convertToInteractive(key) {\n",
              "          const element = document.querySelector('#df-37042f87-0c13-41a9-adcb-63e013736559');\n",
              "          const dataTable =\n",
              "            await google.colab.kernel.invokeFunction('convertToInteractive',\n",
              "                                                     [key], {});\n",
              "          if (!dataTable) return;\n",
              "\n",
              "          const docLinkHtml = 'Like what you see? Visit the ' +\n",
              "            '<a target=\"_blank\" href=https://colab.research.google.com/notebooks/data_table.ipynb>data table notebook</a>'\n",
              "            + ' to learn more about interactive tables.';\n",
              "          element.innerHTML = '';\n",
              "          dataTable['output_type'] = 'display_data';\n",
              "          await google.colab.output.renderOutput(dataTable, element);\n",
              "          const docLink = document.createElement('div');\n",
              "          docLink.innerHTML = docLinkHtml;\n",
              "          element.appendChild(docLink);\n",
              "        }\n",
              "      </script>\n",
              "    </div>\n",
              "  </div>\n",
              "  "
            ]
          },
          "metadata": {},
          "execution_count": 337
        }
      ]
    },
    {
      "cell_type": "code",
      "source": [
        "# encode the 4 categorical values into the numeric ordinal values\n",
        "for i in medication:\n",
        "    df_train[i] = df_train[i].replace('No', 0)\n",
        "    df_train[i] = df_train[i].replace('Down', 1)\n",
        "    df_train[i] = df_train[i].replace('Steady', 2)\n",
        "    df_train[i] = df_train[i].replace('Up', 3)\n",
        "    \n",
        "    df_test[i] = df_test[i].replace('No', 0)\n",
        "    df_test[i] = df_test[i].replace('Down', 1)\n",
        "    df_test[i] = df_test[i].replace('Steady', 2)\n",
        "    df_test[i] = df_test[i].replace('Up', 3)\n",
        "\n",
        "    # plot the value distribution for each medication feature\n",
        "    sns.countplot(x = i,                 \n",
        "                  data = df_train)\n",
        "    plt.show()\n",
        "    print(i.upper())\n",
        "    print(df_train[f\"{i}\"].value_counts())\n",
        "    #print(i,\"\\n\", df_train[i].value_counts(), \"\\n\") \n",
        "   \n",
        "\n"
      ],
      "metadata": {
        "id": "dovdP3dy8IsS",
        "colab": {
          "base_uri": "https://localhost:8080/",
          "height": 1000
        },
        "outputId": "24291a46-904a-4e30-84b3-488f00ef48a7"
      },
      "execution_count": 338,
      "outputs": [
        {
          "output_type": "display_data",
          "data": {
            "text/plain": [
              "<Figure size 432x288 with 1 Axes>"
            ],
            "image/png": "[encoded data removed]"
          },
          "metadata": {
            "needs_background": "light"
          }
        },
        {
          "output_type": "stream",
          "name": "stdout",
          "text": [
            "METFORMIN\n",
            "0    73108\n",
            "2    16199\n",
            "3      947\n",
            "1      509\n",
            "Name: metformin, dtype: int64\n"
          ]
        },
        {
          "output_type": "display_data",
          "data": {
            "text/plain": [
              "<Figure size 432x288 with 1 Axes>"
            ],
            "image/png": "[encoded data removed]"
          },
          "metadata": {
            "needs_background": "light"
          }
        },
        {
          "output_type": "stream",
          "name": "stdout",
          "text": [
            "REPAGLINIDE\n",
            "0    89434\n",
            "2     1198\n",
            "3       91\n",
            "1       40\n",
            "Name: repaglinide, dtype: int64\n"
          ]
        },
        {
          "output_type": "display_data",
          "data": {
            "text/plain": [
              "<Figure size 432x288 with 1 Axes>"
            ],
            "image/png": "[encoded data removed]"
          },
          "metadata": {
            "needs_background": "light"
          }
        },
        {
          "output_type": "stream",
          "name": "stdout",
          "text": [
            "NATEGLINIDE\n",
            "0    90157\n",
            "2      574\n",
            "3       21\n",
            "1       11\n",
            "Name: nateglinide, dtype: int64\n"
          ]
        },
        {
          "output_type": "display_data",
          "data": {
            "text/plain": [
              "<Figure size 432x288 with 1 Axes>"
            ],
            "image/png": "[encoded data removed]"
          },
          "metadata": {
            "needs_background": "light"
          }
        },
        {
          "output_type": "stream",
          "name": "stdout",
          "text": [
            "CHLORPROPAMIDE\n",
            "0    90682\n",
            "2       74\n",
            "3        6\n",
            "1        1\n",
            "Name: chlorpropamide, dtype: int64\n"
          ]
        },
        {
          "output_type": "display_data",
          "data": {
            "text/plain": [
              "<Figure size 432x288 with 1 Axes>"
            ],
            "image/png": "[encoded data removed]"
          },
          "metadata": {
            "needs_background": "light"
          }
        },
        {
          "output_type": "stream",
          "name": "stdout",
          "text": [
            "GLIMEPIRIDE\n",
            "0    86152\n",
            "2     4142\n",
            "3      294\n",
            "1      175\n",
            "Name: glimepiride, dtype: int64\n"
          ]
        },
        {
          "output_type": "display_data",
          "data": {
            "text/plain": [
              "<Figure size 432x288 with 1 Axes>"
            ],
            "image/png": "[encoded data removed]"
          },
          "metadata": {
            "needs_background": "light"
          }
        },
        {
          "output_type": "stream",
          "name": "stdout",
          "text": [
            "GLIPIZIDE\n",
            "0    79469\n",
            "2    10086\n",
            "3      707\n",
            "1      501\n",
            "Name: glipizide, dtype: int64\n"
          ]
        },
        {
          "output_type": "display_data",
          "data": {
            "text/plain": [
              "<Figure size 432x288 with 1 Axes>"
            ],
            "image/png": "[encoded data removed]"
          },
          "metadata": {
            "needs_background": "light"
          }
        },
        {
          "output_type": "stream",
          "name": "stdout",
          "text": [
            "GLYBURIDE\n",
            "0    81122\n",
            "2     8397\n",
            "3      731\n",
            "1      513\n",
            "Name: glyburide, dtype: int64\n"
          ]
        },
        {
          "output_type": "display_data",
          "data": {
            "text/plain": [
              "<Figure size 432x288 with 1 Axes>"
            ],
            "image/png": "[encoded data removed]"
          },
          "metadata": {
            "needs_background": "light"
          }
        },
        {
          "output_type": "stream",
          "name": "stdout",
          "text": [
            "PIOGLITAZONE\n",
            "0    84385\n",
            "2     6070\n",
            "3      207\n",
            "1      101\n",
            "Name: pioglitazone, dtype: int64\n"
          ]
        },
        {
          "output_type": "display_data",
          "data": {
            "text/plain": [
              "<Figure size 432x288 with 1 Axes>"
            ],
            "image/png": "[encoded data removed]"
          },
          "metadata": {
            "needs_background": "light"
          }
        },
        {
          "output_type": "stream",
          "name": "stdout",
          "text": [
            "ROSIGLITAZONE\n",
            "0    85233\n",
            "2     5298\n",
            "3      154\n",
            "1       78\n",
            "Name: rosiglitazone, dtype: int64\n"
          ]
        },
        {
          "output_type": "display_data",
          "data": {
            "text/plain": [
              "<Figure size 432x288 with 1 Axes>"
            ],
            "image/png": "[encoded data removed]"
          },
          "metadata": {
            "needs_background": "light"
          }
        },
        {
          "output_type": "stream",
          "name": "stdout",
          "text": [
            "ACARBOSE\n",
            "0    90492\n",
            "2      261\n",
            "3        9\n",
            "1        1\n",
            "Name: acarbose, dtype: int64\n"
          ]
        },
        {
          "output_type": "display_data",
          "data": {
            "text/plain": [
              "<Figure size 432x288 with 1 Axes>"
            ],
            "image/png": "[encoded data removed]"
          },
          "metadata": {
            "needs_background": "light"
          }
        },
        {
          "output_type": "stream",
          "name": "stdout",
          "text": [
            "MIGLITOL\n",
            "0    90730\n",
            "2       26\n",
            "1        5\n",
            "3        2\n",
            "Name: miglitol, dtype: int64\n"
          ]
        },
        {
          "output_type": "display_data",
          "data": {
            "text/plain": [
              "<Figure size 432x288 with 1 Axes>"
            ],
            "image/png": "[encoded data removed]"
          },
          "metadata": {
            "needs_background": "light"
          }
        },
        {
          "output_type": "stream",
          "name": "stdout",
          "text": [
            "CITOGLIPTON\n",
            "0    90763\n",
            "Name: citoglipton, dtype: int64\n"
          ]
        },
        {
          "output_type": "display_data",
          "data": {
            "text/plain": [
              "<Figure size 432x288 with 1 Axes>"
            ],
            "image/png": "[encoded data removed]"
          },
          "metadata": {
            "needs_background": "light"
          }
        },
        {
          "output_type": "stream",
          "name": "stdout",
          "text": [
            "INSULIN\n",
            "0    42790\n",
            "2    27876\n",
            "1    10487\n",
            "3     9610\n",
            "Name: insulin, dtype: int64\n"
          ]
        },
        {
          "output_type": "display_data",
          "data": {
            "text/plain": [
              "<Figure size 432x288 with 1 Axes>"
            ],
            "image/png": "[encoded data removed]"
          },
          "metadata": {
            "needs_background": "light"
          }
        },
        {
          "output_type": "stream",
          "name": "stdout",
          "text": [
            "GLYBURIDE-METFORMIN\n",
            "0    90196\n",
            "2      554\n",
            "3        7\n",
            "1        6\n",
            "Name: glyburide-metformin, dtype: int64\n"
          ]
        },
        {
          "output_type": "display_data",
          "data": {
            "text/plain": [
              "<Figure size 432x288 with 1 Axes>"
            ],
            "image/png": "[encoded data removed]"
          },
          "metadata": {
            "needs_background": "light"
          }
        },
        {
          "output_type": "stream",
          "name": "stdout",
          "text": [
            "TOLAZAMIDE\n",
            "0    90724\n",
            "2       38\n",
            "3        1\n",
            "Name: tolazamide, dtype: int64\n"
          ]
        },
        {
          "output_type": "display_data",
          "data": {
            "text/plain": [
              "<Figure size 432x288 with 1 Axes>"
            ],
            "image/png": "[encoded data removed]"
          },
          "metadata": {
            "needs_background": "light"
          }
        },
        {
          "output_type": "stream",
          "name": "stdout",
          "text": [
            "EXAMIDE\n",
            "0    90763\n",
            "Name: examide, dtype: int64\n"
          ]
        },
        {
          "output_type": "display_data",
          "data": {
            "text/plain": [
              "<Figure size 432x288 with 1 Axes>"
            ],
            "image/png": "[encoded data removed]"
          },
          "metadata": {
            "needs_background": "light"
          }
        },
        {
          "output_type": "stream",
          "name": "stdout",
          "text": [
            "METFORMIN-PIOGLITAZONE\n",
            "0    90762\n",
            "2        1\n",
            "Name: metformin-pioglitazone, dtype: int64\n"
          ]
        },
        {
          "output_type": "display_data",
          "data": {
            "text/plain": [
              "<Figure size 432x288 with 1 Axes>"
            ],
            "image/png": "[encoded data removed]"
          },
          "metadata": {
            "needs_background": "light"
          }
        },
        {
          "output_type": "stream",
          "name": "stdout",
          "text": [
            "METFORMIN-ROSIGLITAZONE\n",
            "0    90761\n",
            "2        2\n",
            "Name: metformin-rosiglitazone, dtype: int64\n"
          ]
        },
        {
          "output_type": "display_data",
          "data": {
            "text/plain": [
              "<Figure size 432x288 with 1 Axes>"
            ],
            "image/png": "[encoded data removed]"
          },
          "metadata": {
            "needs_background": "light"
          }
        },
        {
          "output_type": "stream",
          "name": "stdout",
          "text": [
            "GLIMEPIRIDE-PIOGLITAZONE\n",
            "0    90762\n",
            "2        1\n",
            "Name: glimepiride-pioglitazone, dtype: int64\n"
          ]
        },
        {
          "output_type": "display_data",
          "data": {
            "text/plain": [
              "<Figure size 432x288 with 1 Axes>"
            ],
            "image/png": "[encoded data removed]"
          },
          "metadata": {
            "needs_background": "light"
          }
        },
        {
          "output_type": "stream",
          "name": "stdout",
          "text": [
            "GLIPIZIDE-METFORMIN\n",
            "0    90755\n",
            "2        8\n",
            "Name: glipizide-metformin, dtype: int64\n"
          ]
        },
        {
          "output_type": "display_data",
          "data": {
            "text/plain": [
              "<Figure size 432x288 with 1 Axes>"
            ],
            "image/png": "[encoded data removed]"
          },
          "metadata": {
            "needs_background": "light"
          }
        },
        {
          "output_type": "stream",
          "name": "stdout",
          "text": [
            "TROGLITAZONE\n",
            "0    90760\n",
            "2        3\n",
            "Name: troglitazone, dtype: int64\n"
          ]
        },
        {
          "output_type": "display_data",
          "data": {
            "text/plain": [
              "<Figure size 432x288 with 1 Axes>"
            ],
            "image/png": "[encoded data removed]"
          },
          "metadata": {
            "needs_background": "light"
          }
        },
        {
          "output_type": "stream",
          "name": "stdout",
          "text": [
            "TOLBUTAMIDE\n",
            "0    90742\n",
            "2       21\n",
            "Name: tolbutamide, dtype: int64\n"
          ]
        },
        {
          "output_type": "display_data",
          "data": {
            "text/plain": [
              "<Figure size 432x288 with 1 Axes>"
            ],
            "image/png": "[encoded data removed]"
          },
          "metadata": {
            "needs_background": "light"
          }
        },
        {
          "output_type": "stream",
          "name": "stdout",
          "text": [
            "ACETOHEXAMIDE\n",
            "0    90762\n",
            "2        1\n",
            "Name: acetohexamide, dtype: int64\n"
          ]
        }
      ]
    },
    {
      "cell_type": "code",
      "source": [
        "# we can see from above that the 'No' value dominate for most of the medication features\n",
        "# meaning that the model may not learn much from those medication features, except for features like 'insulin' and 'METFORMIN'\n",
        "# in which the 'No' value is less dominate than it is in the other medication features\n",
        "\n",
        "# Hence, we will drop out the medication features that cause the situation where the % of training records with that feature value being 'No' > 99% of the total training samples\n",
        "# as such features can be regarded as “almost-unary” attributes that do not contribute much to the model learning (low variance / info provided) and should be removed for \n",
        "# better model generalizability and less computational time\n",
        "\n",
        "# so that we can supply more meaningful features to the model for learning\n",
        "medication_valid = []\n",
        "for i in medication:\n",
        "  if((df_train[i] == 0).sum() / df_train.shape[0] > 0.99):\n",
        "    df_train = df_train.drop([i], axis=1)\n",
        "    df_test = df_test.drop([i], axis=1)\n",
        "    medication_valid.append(i)\n",
        "medication_valid    \n",
        "\n"
      ],
      "metadata": {
        "id": "Jub328vA-EmA",
        "colab": {
          "base_uri": "https://localhost:8080/"
        },
        "outputId": "b46e87b2-0335-45fd-eb16-cc742f782f7a"
      },
      "execution_count": 339,
      "outputs": [
        {
          "output_type": "execute_result",
          "data": {
            "text/plain": [
              "['nateglinide',\n",
              " 'chlorpropamide',\n",
              " 'acarbose',\n",
              " 'miglitol',\n",
              " 'citoglipton',\n",
              " 'glyburide-metformin',\n",
              " 'tolazamide',\n",
              " 'examide',\n",
              " 'metformin-pioglitazone',\n",
              " 'metformin-rosiglitazone',\n",
              " 'glimepiride-pioglitazone',\n",
              " 'glipizide-metformin',\n",
              " 'troglitazone',\n",
              " 'tolbutamide',\n",
              " 'acetohexamide']"
            ]
          },
          "metadata": {},
          "execution_count": 339
        }
      ]
    },
    {
      "cell_type": "markdown",
      "source": [
        "### Convert the categorical feature \"Glucose serum test result\" (max_glu_serum) into numeric one\n",
        "\n",
        "Same encoding strategy with 'medication' can be used for this feature:\n",
        "\n",
        ">None:  0\n",
        "\n",
        ">Norm:  1\n",
        "\n",
        ">\">200\": 2    \n",
        "\n",
        ">\">300\": 3 "
      ],
      "metadata": {
        "id": "wXMeYTtEB9Dw"
      }
    },
    {
      "cell_type": "code",
      "source": [
        "df_train.max_glu_serum.value_counts()"
      ],
      "metadata": {
        "id": "5O8p8Jsv-VRO",
        "colab": {
          "base_uri": "https://localhost:8080/"
        },
        "outputId": "431e4176-4601-4947-8fdb-80f281572f96"
      },
      "execution_count": 340,
      "outputs": [
        {
          "output_type": "execute_result",
          "data": {
            "text/plain": [
              "None    85578\n",
              "Norm     2545\n",
              ">200     1463\n",
              ">300     1177\n",
              "Name: max_glu_serum, dtype: int64"
            ]
          },
          "metadata": {},
          "execution_count": 340
        }
      ]
    },
    {
      "cell_type": "code",
      "source": [
        "# encoding the \"max_glu_serum\" feature\n",
        "df_train[\"max_glu_serum\"] = df_train[\"max_glu_serum\"].replace({\"None\":0, \"Norm\":1, \">200\":2, \">300\":3}) \n",
        "df_test[\"max_glu_serum\"] = df_test[\"max_glu_serum\"].replace({\"None\":0, \"Norm\":1, \">200\":2, \">300\":3}) \n",
        "\n",
        "sns.countplot(x = \"max_glu_serum\", data = df_train)\n",
        "plt.show()\n",
        "\n",
        "print(df_train.max_glu_serum.value_counts())\n",
        "\n",
        "# as shown below, the value 0 or None dominates, meaning this feature does not give much useful info for prediction / training / model learning"
      ],
      "metadata": {
        "id": "ob__T7puDOZI",
        "colab": {
          "base_uri": "https://localhost:8080/",
          "height": 367
        },
        "outputId": "d805f4d8-91db-4716-fed1-41e1590625bc"
      },
      "execution_count": 341,
      "outputs": [
        {
          "output_type": "display_data",
          "data": {
            "text/plain": [
              "<Figure size 432x288 with 1 Axes>"
            ],
            "image/png": "[encoded data removed]"
          },
          "metadata": {
            "needs_background": "light"
          }
        },
        {
          "output_type": "stream",
          "name": "stdout",
          "text": [
            "0    85578\n",
            "1     2545\n",
            "2     1463\n",
            "3     1177\n",
            "Name: max_glu_serum, dtype: int64\n"
          ]
        }
      ]
    },
    {
      "cell_type": "markdown",
      "source": [
        "### Convert categorical feature \"A1c test result\" into numeric one\n",
        "> “none”: 0 \n",
        "\n",
        "> “normal”: 1\n",
        "\n",
        "> “>7”: 2\n",
        "\n",
        "> “>8”: 3\n"
      ],
      "metadata": {
        "id": "Wk5e9N7vFBrm"
      }
    },
    {
      "cell_type": "code",
      "source": [
        "# Similar procedure with feature \"max_glu_serum\"\n",
        "df_train[\"A1Cresult\"] = df_train[\"A1Cresult\"].replace({\"None\":0, \"Norm\":1, \">7\":2, \">8\":3})\n",
        "df_test[\"A1Cresult\"] = df_test[\"A1Cresult\"].replace({\"None\":0, \"Norm\":1, \">7\":2, \">8\":3})\n",
        "\n",
        "sns.countplot(x = \"A1Cresult\", data = df_train)\n",
        "plt.show()\n",
        "\n",
        "print(df_train.A1Cresult.value_counts())\n",
        "# again, as shown below, the value 0 or None dominates, meaning this feature does not give much useful info for prediction / training / model learning"
      ],
      "metadata": {
        "id": "CJiJr_yJE0_3",
        "colab": {
          "base_uri": "https://localhost:8080/",
          "height": 366
        },
        "outputId": "bfc06c9a-3d77-463b-86f6-c0d918d43759"
      },
      "execution_count": 342,
      "outputs": [
        {
          "output_type": "display_data",
          "data": {
            "text/plain": [
              "<Figure size 432x288 with 1 Axes>"
            ],
            "image/png": "[encoded data removed]"
          },
          "metadata": {
            "needs_background": "light"
          }
        },
        {
          "output_type": "stream",
          "name": "stdout",
          "text": [
            "0    75924\n",
            "3     7329\n",
            "1     4231\n",
            "2     3279\n",
            "Name: A1Cresult, dtype: int64\n"
          ]
        }
      ]
    },
    {
      "cell_type": "markdown",
      "source": [
        "## Convert the 3 binary categorical features ('Gender', 'Change of medications' and 'Diabetes medications') into binary numeric attributes\n",
        "\n",
        "For 'Gender':\n",
        "\n",
        "> Male: 1\n",
        "\n",
        "> Female: 0\n",
        "\n",
        "For 'Change of medications':\n",
        "\n",
        "> Ch: 1\n",
        "\n",
        "> No: 0\n",
        "\n",
        "For 'Diabetes medications':\n",
        "\n",
        "> Yes: 1\n",
        "\n",
        "> No: 0\n"
      ],
      "metadata": {
        "id": "R8ko7S9SyOfR"
      }
    },
    {
      "cell_type": "code",
      "source": [
        "df_train.gender.value_counts()"
      ],
      "metadata": {
        "id": "5lMrrhGT5ZWz",
        "colab": {
          "base_uri": "https://localhost:8080/"
        },
        "outputId": "b2148afb-3e2b-4f42-8b77-510763a269b9"
      },
      "execution_count": 343,
      "outputs": [
        {
          "output_type": "execute_result",
          "data": {
            "text/plain": [
              "Female    48748\n",
              "Male      42015\n",
              "Name: gender, dtype: int64"
            ]
          },
          "metadata": {},
          "execution_count": 343
        }
      ]
    },
    {
      "cell_type": "code",
      "source": [
        "df_train['gender'] = df_train['gender'].replace({'Male':1, 'Female':0})\n",
        "df_test['gender'] = df_test['gender'].replace({'Male':1, 'Female':0})\n",
        "\n",
        "sns.countplot(x = \"gender\", data = df_train)\n",
        "plt.title(\"Distribution of Gender Values\")\n",
        "plt.show()\n",
        "\n",
        "df_train.gender.value_counts()"
      ],
      "metadata": {
        "id": "e4qpefM849b4",
        "colab": {
          "base_uri": "https://localhost:8080/",
          "height": 347
        },
        "outputId": "cb0e9cac-b62b-4799-e4e7-1b133916db8f"
      },
      "execution_count": 344,
      "outputs": [
        {
          "output_type": "display_data",
          "data": {
            "text/plain": [
              "<Figure size 432x288 with 1 Axes>"
            ],
            "image/png": "[encoded data removed]"
          },
          "metadata": {
            "needs_background": "light"
          }
        },
        {
          "output_type": "execute_result",
          "data": {
            "text/plain": [
              "0    48748\n",
              "1    42015\n",
              "Name: gender, dtype: int64"
            ]
          },
          "metadata": {},
          "execution_count": 344
        }
      ]
    },
    {
      "cell_type": "code",
      "source": [
        "df_train.change.value_counts()"
      ],
      "metadata": {
        "id": "abH0KGhXwbDF",
        "colab": {
          "base_uri": "https://localhost:8080/"
        },
        "outputId": "b69faac0-e2a9-440e-f996-ce00cebac88b"
      },
      "execution_count": 345,
      "outputs": [
        {
          "output_type": "execute_result",
          "data": {
            "text/plain": [
              "No    49654\n",
              "Ch    41109\n",
              "Name: change, dtype: int64"
            ]
          },
          "metadata": {},
          "execution_count": 345
        }
      ]
    },
    {
      "cell_type": "code",
      "source": [
        "df_train['change']=df_train['change'].replace({'No': 0, 'Ch':1})\n",
        "df_test['change']=df_test['change'].replace({'No': 0, 'Ch':1})\n",
        "\n",
        "sns.countplot(x = \"change\", data = df_train)\n",
        "plt.title(\"Distribution of Medication Change Values\")\n",
        "plt.show()\n",
        "\n",
        "df_train.change.value_counts()"
      ],
      "metadata": {
        "id": "pVHHCdG40P0e",
        "colab": {
          "base_uri": "https://localhost:8080/",
          "height": 347
        },
        "outputId": "247c0145-d023-43a7-d481-351da0a3bb74"
      },
      "execution_count": 346,
      "outputs": [
        {
          "output_type": "display_data",
          "data": {
            "text/plain": [
              "<Figure size 432x288 with 1 Axes>"
            ],
            "image/png": "[encoded data removed]"
          },
          "metadata": {
            "needs_background": "light"
          }
        },
        {
          "output_type": "execute_result",
          "data": {
            "text/plain": [
              "0    49654\n",
              "1    41109\n",
              "Name: change, dtype: int64"
            ]
          },
          "metadata": {},
          "execution_count": 346
        }
      ]
    },
    {
      "cell_type": "code",
      "source": [
        "df_train.diabetesMed.value_counts()"
      ],
      "metadata": {
        "id": "vsrrGcAO2RaJ",
        "colab": {
          "base_uri": "https://localhost:8080/"
        },
        "outputId": "2c64a575-0b65-4f09-b92e-45fafc283273"
      },
      "execution_count": 347,
      "outputs": [
        {
          "output_type": "execute_result",
          "data": {
            "text/plain": [
              "Yes    69571\n",
              "No     21192\n",
              "Name: diabetesMed, dtype: int64"
            ]
          },
          "metadata": {},
          "execution_count": 347
        }
      ]
    },
    {
      "cell_type": "code",
      "source": [
        "df_train['diabetesMed']=df_train['diabetesMed'].replace({'Yes': 1, 'No': 0})\n",
        "df_test['diabetesMed']=df_test['diabetesMed'].replace({'Yes': 1, 'No': 0})\n",
        "\n",
        "sns.countplot(x = \"diabetesMed\", data = df_train )\n",
        "plt.title(\"Distribution of Diabetes Med Values\")\n",
        "plt.show()\n",
        "\n",
        "df_train.diabetesMed.value_counts()\n"
      ],
      "metadata": {
        "id": "LPllbUfn2Rw6",
        "colab": {
          "base_uri": "https://localhost:8080/",
          "height": 347
        },
        "outputId": "0b728e73-6c14-476d-f5a7-5c32e149ddfb"
      },
      "execution_count": 348,
      "outputs": [
        {
          "output_type": "display_data",
          "data": {
            "text/plain": [
              "<Figure size 432x288 with 1 Axes>"
            ],
            "image/png": "[encoded data removed]"
          },
          "metadata": {
            "needs_background": "light"
          }
        },
        {
          "output_type": "execute_result",
          "data": {
            "text/plain": [
              "1    69571\n",
              "0    21192\n",
              "Name: diabetesMed, dtype: int64"
            ]
          },
          "metadata": {},
          "execution_count": 348
        }
      ]
    },
    {
      "cell_type": "code",
      "source": [
        "# we can also try to plot the probability of readmitted by just considering the single feature 'diabetesMed' values\n",
        "g = sns.catplot(x = \"diabetesMed\", y=\"readmitted\", \n",
        "            data = df_train, height = 6, kind =\"bar\")\n",
        "g.set_ylabels(\"Probability of Readmitted\")\n",
        "plt.show()"
      ],
      "metadata": {
        "id": "pzHpdHrM3QSK",
        "colab": {
          "base_uri": "https://localhost:8080/",
          "height": 441
        },
        "outputId": "b3076a45-1d85-445c-bf93-5e37dce7752e"
      },
      "execution_count": 349,
      "outputs": [
        {
          "output_type": "display_data",
          "data": {
            "text/plain": [
              "<Figure size 432x432 with 1 Axes>"
            ],
            "image/png": "[encoded data removed]"
          },
          "metadata": {
            "needs_background": "light"
          }
        }
      ]
    },
    {
      "cell_type": "markdown",
      "source": [
        "## Convert 'Race' feature into numeric one by using the one-hot technique"
      ],
      "metadata": {
        "id": "x6bOWUNq7QQO"
      }
    },
    {
      "cell_type": "code",
      "source": [
        "dummies_race_train = pd.get_dummies(df_train['race'],prefix='race')\n",
        "dummies_race_test = pd.get_dummies(df_test['race'],prefix='race')\n",
        "dummies_race_train"
      ],
      "metadata": {
        "id": "fQjJqjwY7PRS",
        "colab": {
          "base_uri": "https://localhost:8080/",
          "height": 424
        },
        "outputId": "1a83ae91-f2cc-4ac5-ae9d-63cf24cd7a6f"
      },
      "execution_count": 350,
      "outputs": [
        {
          "output_type": "execute_result",
          "data": {
            "text/plain": [
              "       race_AfricanAmerican  race_Asian  race_Caucasian  race_Hispanic  \\\n",
              "0                         0           0               1              0   \n",
              "1                         0           0               1              0   \n",
              "2                         0           0               1              0   \n",
              "3                         1           0               0              0   \n",
              "4                         0           0               1              0   \n",
              "...                     ...         ...             ...            ...   \n",
              "90761                     1           0               0              0   \n",
              "90762                     1           0               0              0   \n",
              "90763                     0           0               1              0   \n",
              "90764                     0           0               1              0   \n",
              "90765                     0           0               1              0   \n",
              "\n",
              "       race_Other  \n",
              "0               0  \n",
              "1               0  \n",
              "2               0  \n",
              "3               0  \n",
              "4               0  \n",
              "...           ...  \n",
              "90761           0  \n",
              "90762           0  \n",
              "90763           0  \n",
              "90764           0  \n",
              "90765           0  \n",
              "\n",
              "[90763 rows x 5 columns]"
            ],
            "text/html": [
              "\n",
              "  <div id=\"df-80caada8-288d-40c3-8eab-3d0c96d653a9\">\n",
              "    <div class=\"colab-df-container\">\n",
              "      <div>\n",
              "<style scoped>\n",
              "    .dataframe tbody tr th:only-of-type {\n",
              "        vertical-align: middle;\n",
              "    }\n",
              "\n",
              "    .dataframe tbody tr th {\n",
              "        vertical-align: top;\n",
              "    }\n",
              "\n",
              "    .dataframe thead th {\n",
              "        text-align: right;\n",
              "    }\n",
              "</style>\n",
              "<table border=\"1\" class=\"dataframe\">\n",
              "  <thead>\n",
              "    <tr style=\"text-align: right;\">\n",
              "      <th></th>\n",
              "      <th>race_AfricanAmerican</th>\n",
              "      <th>race_Asian</th>\n",
              "      <th>race_Caucasian</th>\n",
              "      <th>race_Hispanic</th>\n",
              "      <th>race_Other</th>\n",
              "    </tr>\n",
              "  </thead>\n",
              "  <tbody>\n",
              "    <tr>\n",
              "      <th>0</th>\n",
              "      <td>0</td>\n",
              "      <td>0</td>\n",
              "      <td>1</td>\n",
              "      <td>0</td>\n",
              "      <td>0</td>\n",
              "    </tr>\n",
              "    <tr>\n",
              "      <th>1</th>\n",
              "      <td>0</td>\n",
              "      <td>0</td>\n",
              "      <td>1</td>\n",
              "      <td>0</td>\n",
              "      <td>0</td>\n",
              "    </tr>\n",
              "    <tr>\n",
              "      <th>2</th>\n",
              "      <td>0</td>\n",
              "      <td>0</td>\n",
              "      <td>1</td>\n",
              "      <td>0</td>\n",
              "      <td>0</td>\n",
              "    </tr>\n",
              "    <tr>\n",
              "      <th>3</th>\n",
              "      <td>1</td>\n",
              "      <td>0</td>\n",
              "      <td>0</td>\n",
              "      <td>0</td>\n",
              "      <td>0</td>\n",
              "    </tr>\n",
              "    <tr>\n",
              "      <th>4</th>\n",
              "      <td>0</td>\n",
              "      <td>0</td>\n",
              "      <td>1</td>\n",
              "      <td>0</td>\n",
              "      <td>0</td>\n",
              "    </tr>\n",
              "    <tr>\n",
              "      <th>...</th>\n",
              "      <td>...</td>\n",
              "      <td>...</td>\n",
              "      <td>...</td>\n",
              "      <td>...</td>\n",
              "      <td>...</td>\n",
              "    </tr>\n",
              "    <tr>\n",
              "      <th>90761</th>\n",
              "      <td>1</td>\n",
              "      <td>0</td>\n",
              "      <td>0</td>\n",
              "      <td>0</td>\n",
              "      <td>0</td>\n",
              "    </tr>\n",
              "    <tr>\n",
              "      <th>90762</th>\n",
              "      <td>1</td>\n",
              "      <td>0</td>\n",
              "      <td>0</td>\n",
              "      <td>0</td>\n",
              "      <td>0</td>\n",
              "    </tr>\n",
              "    <tr>\n",
              "      <th>90763</th>\n",
              "      <td>0</td>\n",
              "      <td>0</td>\n",
              "      <td>1</td>\n",
              "      <td>0</td>\n",
              "      <td>0</td>\n",
              "    </tr>\n",
              "    <tr>\n",
              "      <th>90764</th>\n",
              "      <td>0</td>\n",
              "      <td>0</td>\n",
              "      <td>1</td>\n",
              "      <td>0</td>\n",
              "      <td>0</td>\n",
              "    </tr>\n",
              "    <tr>\n",
              "      <th>90765</th>\n",
              "      <td>0</td>\n",
              "      <td>0</td>\n",
              "      <td>1</td>\n",
              "      <td>0</td>\n",
              "      <td>0</td>\n",
              "    </tr>\n",
              "  </tbody>\n",
              "</table>\n",
              "<p>90763 rows × 5 columns</p>\n",
              "</div>\n",
              "      <button class=\"colab-df-convert\" onclick=\"convertToInteractive('df-80caada8-288d-40c3-8eab-3d0c96d653a9')\"\n",
              "              title=\"Convert this dataframe to an interactive table.\"\n",
              "              style=\"display:none;\">\n",
              "        \n",
              "  <svg xmlns=\"http://www.w3.org/2000/svg\" height=\"24px\"viewBox=\"0 0 24 24\"\n",
              "       width=\"24px\">\n",
              "    <path d=\"M0 0h24v24H0V0z\" fill=\"none\"/>\n",
              "    <path d=\"M18.56 5.44l.94 2.06.94-2.06 2.06-.94-2.06-.94-.94-2.06-.94 2.06-2.06.94zm-11 1L8.5 8.5l.94-2.06 2.06-.94-2.06-.94L8.5 2.5l-.94 2.06-2.06.94zm10 10l.94 2.06.94-2.06 2.06-.94-2.06-.94-.94-2.06-.94 2.06-2.06.94z\"/><path d=\"M17.41 7.96l-1.37-1.37c-.4-.4-.92-.59-1.43-.59-.52 0-1.04.2-1.43.59L10.3 9.45l-7.72 7.72c-.78.78-.78 2.05 0 2.83L4 21.41c.39.39.9.59 1.41.59.51 0 1.02-.2 1.41-.59l7.78-7.78 2.81-2.81c.8-.78.8-2.07 0-2.86zM5.41 20L4 18.59l7.72-7.72 1.47 1.35L5.41 20z\"/>\n",
              "  </svg>\n",
              "      </button>\n",
              "      \n",
              "  <style>\n",
              "    .colab-df-container {\n",
              "      display:flex;\n",
              "      flex-wrap:wrap;\n",
              "      gap: 12px;\n",
              "    }\n",
              "\n",
              "    .colab-df-convert {\n",
              "      background-color: #E8F0FE;\n",
              "      border: none;\n",
              "      border-radius: 50%;\n",
              "      cursor: pointer;\n",
              "      display: none;\n",
              "      fill: #1967D2;\n",
              "      height: 32px;\n",
              "      padding: 0 0 0 0;\n",
              "      width: 32px;\n",
              "    }\n",
              "\n",
              "    .colab-df-convert:hover {\n",
              "      background-color: #E2EBFA;\n",
              "      box-shadow: 0px 1px 2px rgba(60, 64, 67, 0.3), 0px 1px 3px 1px rgba(60, 64, 67, 0.15);\n",
              "      fill: #174EA6;\n",
              "    }\n",
              "\n",
              "    [theme=dark] .colab-df-convert {\n",
              "      background-color: #3B4455;\n",
              "      fill: #D2E3FC;\n",
              "    }\n",
              "\n",
              "    [theme=dark] .colab-df-convert:hover {\n",
              "      background-color: #434B5C;\n",
              "      box-shadow: 0px 1px 3px 1px rgba(0, 0, 0, 0.15);\n",
              "      filter: drop-shadow(0px 1px 2px rgba(0, 0, 0, 0.3));\n",
              "      fill: #FFFFFF;\n",
              "    }\n",
              "  </style>\n",
              "\n",
              "      <script>\n",
              "        const buttonEl =\n",
              "          document.querySelector('#df-80caada8-288d-40c3-8eab-3d0c96d653a9 button.colab-df-convert');\n",
              "        buttonEl.style.display =\n",
              "          google.colab.kernel.accessAllowed ? 'block' : 'none';\n",
              "\n",
              "        async function convertToInteractive(key) {\n",
              "          const element = document.querySelector('#df-80caada8-288d-40c3-8eab-3d0c96d653a9');\n",
              "          const dataTable =\n",
              "            await google.colab.kernel.invokeFunction('convertToInteractive',\n",
              "                                                     [key], {});\n",
              "          if (!dataTable) return;\n",
              "\n",
              "          const docLinkHtml = 'Like what you see? Visit the ' +\n",
              "            '<a target=\"_blank\" href=https://colab.research.google.com/notebooks/data_table.ipynb>data table notebook</a>'\n",
              "            + ' to learn more about interactive tables.';\n",
              "          element.innerHTML = '';\n",
              "          dataTable['output_type'] = 'display_data';\n",
              "          await google.colab.output.renderOutput(dataTable, element);\n",
              "          const docLink = document.createElement('div');\n",
              "          docLink.innerHTML = docLinkHtml;\n",
              "          element.appendChild(docLink);\n",
              "        }\n",
              "      </script>\n",
              "    </div>\n",
              "  </div>\n",
              "  "
            ]
          },
          "metadata": {},
          "execution_count": 350
        }
      ]
    },
    {
      "cell_type": "code",
      "source": [
        "df_train = pd.concat([df_train, dummies_race_train], axis=1)      \n",
        "df_train = df_train.drop(['race'], axis=1)\n",
        "\n",
        "df_test = pd.concat([df_test, dummies_race_test], axis=1)      \n",
        "df_test = df_test.drop(['race'], axis=1)\n",
        "\n",
        "df_test"
      ],
      "metadata": {
        "id": "teW4wvso4tnM",
        "colab": {
          "base_uri": "https://localhost:8080/",
          "height": 488
        },
        "outputId": "82795e09-f6a8-47f9-f407-74dbdf1a2c92"
      },
      "execution_count": 351,
      "outputs": [
        {
          "output_type": "execute_result",
          "data": {
            "text/plain": [
              "       encounter_id  patient_nbr  gender  age  admission_type_id  \\\n",
              "0         168899775     88565423       1   65                  3   \n",
              "1         168901359     88590695       1   65                  5   \n",
              "2         168903045     61086362       0   75                  1   \n",
              "3         168903927     85993970       1   75                  1   \n",
              "4         168904515     45884291       1   55                  2   \n",
              "...             ...          ...     ...  ...                ...   \n",
              "10995     206091009     93935111       0   65                  3   \n",
              "10996     206098845    112735382       1   75                  3   \n",
              "10997     206100591     89262995       1   75                  3   \n",
              "10998     206117205    106914191       1   85                  1   \n",
              "10999     206121411     91334525       0   65                  2   \n",
              "\n",
              "       discharge_disposition_id  admission_source_id  time_in_hospital  \\\n",
              "0                             1                    1                 2   \n",
              "1                             1                    1                 1   \n",
              "2                             1                    1                 2   \n",
              "3                             1                    7                 2   \n",
              "4                             1                    2                 5   \n",
              "...                         ...                  ...               ...   \n",
              "10995                         1                    1                 2   \n",
              "10996                         1                    1                 1   \n",
              "10997                         1                    1                 5   \n",
              "10998                         6                    7                 8   \n",
              "10999                         1                    7                10   \n",
              "\n",
              "       num_lab_procedures  num_procedures  ...  rosiglitazone  insulin  \\\n",
              "0                       3               3  ...              0        0   \n",
              "1                       7               0  ...              0        0   \n",
              "2                      37               0  ...              0        0   \n",
              "3                      49               0  ...              0        2   \n",
              "4                       4               3  ...              0        1   \n",
              "...                   ...             ...  ...            ...      ...   \n",
              "10995                  35               0  ...              0        2   \n",
              "10996                  42               6  ...              0        0   \n",
              "10997                  60               1  ...              0        1   \n",
              "10998                  53               2  ...              0        3   \n",
              "10999                  54               2  ...              0        3   \n",
              "\n",
              "       change  diabetesMed readmitted race_AfricanAmerican race_Asian  \\\n",
              "0           1            1        NaN                    0          0   \n",
              "1           0            1        NaN                    0          0   \n",
              "2           0            0        NaN                    1          0   \n",
              "3           0            1        NaN                    0          0   \n",
              "4           1            1        NaN                    0          0   \n",
              "...       ...          ...        ...                  ...        ...   \n",
              "10995       0            1        NaN                    0          0   \n",
              "10996       0            0        NaN                    0          0   \n",
              "10997       1            1        NaN                    0          0   \n",
              "10998       1            1        NaN                    0          0   \n",
              "10999       1            1        NaN                    0          0   \n",
              "\n",
              "       race_Caucasian  race_Hispanic  race_Other  \n",
              "0                   1              0           0  \n",
              "1                   1              0           0  \n",
              "2                   0              0           0  \n",
              "3                   1              0           0  \n",
              "4                   1              0           0  \n",
              "...               ...            ...         ...  \n",
              "10995               1              0           0  \n",
              "10996               1              0           0  \n",
              "10997               1              0           0  \n",
              "10998               1              0           0  \n",
              "10999               1              0           0  \n",
              "\n",
              "[11000 rows x 36 columns]"
            ],
            "text/html": [
              "\n",
              "  <div id=\"df-585846b0-b21a-4bf0-a92d-874b5f53e33f\">\n",
              "    <div class=\"colab-df-container\">\n",
              "      <div>\n",
              "<style scoped>\n",
              "    .dataframe tbody tr th:only-of-type {\n",
              "        vertical-align: middle;\n",
              "    }\n",
              "\n",
              "    .dataframe tbody tr th {\n",
              "        vertical-align: top;\n",
              "    }\n",
              "\n",
              "    .dataframe thead th {\n",
              "        text-align: right;\n",
              "    }\n",
              "</style>\n",
              "<table border=\"1\" class=\"dataframe\">\n",
              "  <thead>\n",
              "    <tr style=\"text-align: right;\">\n",
              "      <th></th>\n",
              "      <th>encounter_id</th>\n",
              "      <th>patient_nbr</th>\n",
              "      <th>gender</th>\n",
              "      <th>age</th>\n",
              "      <th>admission_type_id</th>\n",
              "      <th>discharge_disposition_id</th>\n",
              "      <th>admission_source_id</th>\n",
              "      <th>time_in_hospital</th>\n",
              "      <th>num_lab_procedures</th>\n",
              "      <th>num_procedures</th>\n",
              "      <th>...</th>\n",
              "      <th>rosiglitazone</th>\n",
              "      <th>insulin</th>\n",
              "      <th>change</th>\n",
              "      <th>diabetesMed</th>\n",
              "      <th>readmitted</th>\n",
              "      <th>race_AfricanAmerican</th>\n",
              "      <th>race_Asian</th>\n",
              "      <th>race_Caucasian</th>\n",
              "      <th>race_Hispanic</th>\n",
              "      <th>race_Other</th>\n",
              "    </tr>\n",
              "  </thead>\n",
              "  <tbody>\n",
              "    <tr>\n",
              "      <th>0</th>\n",
              "      <td>168899775</td>\n",
              "      <td>88565423</td>\n",
              "      <td>1</td>\n",
              "      <td>65</td>\n",
              "      <td>3</td>\n",
              "      <td>1</td>\n",
              "      <td>1</td>\n",
              "      <td>2</td>\n",
              "      <td>3</td>\n",
              "      <td>3</td>\n",
              "      <td>...</td>\n",
              "      <td>0</td>\n",
              "      <td>0</td>\n",
              "      <td>1</td>\n",
              "      <td>1</td>\n",
              "      <td>NaN</td>\n",
              "      <td>0</td>\n",
              "      <td>0</td>\n",
              "      <td>1</td>\n",
              "      <td>0</td>\n",
              "      <td>0</td>\n",
              "    </tr>\n",
              "    <tr>\n",
              "      <th>1</th>\n",
              "      <td>168901359</td>\n",
              "      <td>88590695</td>\n",
              "      <td>1</td>\n",
              "      <td>65</td>\n",
              "      <td>5</td>\n",
              "      <td>1</td>\n",
              "      <td>1</td>\n",
              "      <td>1</td>\n",
              "      <td>7</td>\n",
              "      <td>0</td>\n",
              "      <td>...</td>\n",
              "      <td>0</td>\n",
              "      <td>0</td>\n",
              "      <td>0</td>\n",
              "      <td>1</td>\n",
              "      <td>NaN</td>\n",
              "      <td>0</td>\n",
              "      <td>0</td>\n",
              "      <td>1</td>\n",
              "      <td>0</td>\n",
              "      <td>0</td>\n",
              "    </tr>\n",
              "    <tr>\n",
              "      <th>2</th>\n",
              "      <td>168903045</td>\n",
              "      <td>61086362</td>\n",
              "      <td>0</td>\n",
              "      <td>75</td>\n",
              "      <td>1</td>\n",
              "      <td>1</td>\n",
              "      <td>1</td>\n",
              "      <td>2</td>\n",
              "      <td>37</td>\n",
              "      <td>0</td>\n",
              "      <td>...</td>\n",
              "      <td>0</td>\n",
              "      <td>0</td>\n",
              "      <td>0</td>\n",
              "      <td>0</td>\n",
              "      <td>NaN</td>\n",
              "      <td>1</td>\n",
              "      <td>0</td>\n",
              "      <td>0</td>\n",
              "      <td>0</td>\n",
              "      <td>0</td>\n",
              "    </tr>\n",
              "    <tr>\n",
              "      <th>3</th>\n",
              "      <td>168903927</td>\n",
              "      <td>85993970</td>\n",
              "      <td>1</td>\n",
              "      <td>75</td>\n",
              "      <td>1</td>\n",
              "      <td>1</td>\n",
              "      <td>7</td>\n",
              "      <td>2</td>\n",
              "      <td>49</td>\n",
              "      <td>0</td>\n",
              "      <td>...</td>\n",
              "      <td>0</td>\n",
              "      <td>2</td>\n",
              "      <td>0</td>\n",
              "      <td>1</td>\n",
              "      <td>NaN</td>\n",
              "      <td>0</td>\n",
              "      <td>0</td>\n",
              "      <td>1</td>\n",
              "      <td>0</td>\n",
              "      <td>0</td>\n",
              "    </tr>\n",
              "    <tr>\n",
              "      <th>4</th>\n",
              "      <td>168904515</td>\n",
              "      <td>45884291</td>\n",
              "      <td>1</td>\n",
              "      <td>55</td>\n",
              "      <td>2</td>\n",
              "      <td>1</td>\n",
              "      <td>2</td>\n",
              "      <td>5</td>\n",
              "      <td>4</td>\n",
              "      <td>3</td>\n",
              "      <td>...</td>\n",
              "      <td>0</td>\n",
              "      <td>1</td>\n",
              "      <td>1</td>\n",
              "      <td>1</td>\n",
              "      <td>NaN</td>\n",
              "      <td>0</td>\n",
              "      <td>0</td>\n",
              "      <td>1</td>\n",
              "      <td>0</td>\n",
              "      <td>0</td>\n",
              "    </tr>\n",
              "    <tr>\n",
              "      <th>...</th>\n",
              "      <td>...</td>\n",
              "      <td>...</td>\n",
              "      <td>...</td>\n",
              "      <td>...</td>\n",
              "      <td>...</td>\n",
              "      <td>...</td>\n",
              "      <td>...</td>\n",
              "      <td>...</td>\n",
              "      <td>...</td>\n",
              "      <td>...</td>\n",
              "      <td>...</td>\n",
              "      <td>...</td>\n",
              "      <td>...</td>\n",
              "      <td>...</td>\n",
              "      <td>...</td>\n",
              "      <td>...</td>\n",
              "      <td>...</td>\n",
              "      <td>...</td>\n",
              "      <td>...</td>\n",
              "      <td>...</td>\n",
              "      <td>...</td>\n",
              "    </tr>\n",
              "    <tr>\n",
              "      <th>10995</th>\n",
              "      <td>206091009</td>\n",
              "      <td>93935111</td>\n",
              "      <td>0</td>\n",
              "      <td>65</td>\n",
              "      <td>3</td>\n",
              "      <td>1</td>\n",
              "      <td>1</td>\n",
              "      <td>2</td>\n",
              "      <td>35</td>\n",
              "      <td>0</td>\n",
              "      <td>...</td>\n",
              "      <td>0</td>\n",
              "      <td>2</td>\n",
              "      <td>0</td>\n",
              "      <td>1</td>\n",
              "      <td>NaN</td>\n",
              "      <td>0</td>\n",
              "      <td>0</td>\n",
              "      <td>1</td>\n",
              "      <td>0</td>\n",
              "      <td>0</td>\n",
              "    </tr>\n",
              "    <tr>\n",
              "      <th>10996</th>\n",
              "      <td>206098845</td>\n",
              "      <td>112735382</td>\n",
              "      <td>1</td>\n",
              "      <td>75</td>\n",
              "      <td>3</td>\n",
              "      <td>1</td>\n",
              "      <td>1</td>\n",
              "      <td>1</td>\n",
              "      <td>42</td>\n",
              "      <td>6</td>\n",
              "      <td>...</td>\n",
              "      <td>0</td>\n",
              "      <td>0</td>\n",
              "      <td>0</td>\n",
              "      <td>0</td>\n",
              "      <td>NaN</td>\n",
              "      <td>0</td>\n",
              "      <td>0</td>\n",
              "      <td>1</td>\n",
              "      <td>0</td>\n",
              "      <td>0</td>\n",
              "    </tr>\n",
              "    <tr>\n",
              "      <th>10997</th>\n",
              "      <td>206100591</td>\n",
              "      <td>89262995</td>\n",
              "      <td>1</td>\n",
              "      <td>75</td>\n",
              "      <td>3</td>\n",
              "      <td>1</td>\n",
              "      <td>1</td>\n",
              "      <td>5</td>\n",
              "      <td>60</td>\n",
              "      <td>1</td>\n",
              "      <td>...</td>\n",
              "      <td>0</td>\n",
              "      <td>1</td>\n",
              "      <td>1</td>\n",
              "      <td>1</td>\n",
              "      <td>NaN</td>\n",
              "      <td>0</td>\n",
              "      <td>0</td>\n",
              "      <td>1</td>\n",
              "      <td>0</td>\n",
              "      <td>0</td>\n",
              "    </tr>\n",
              "    <tr>\n",
              "      <th>10998</th>\n",
              "      <td>206117205</td>\n",
              "      <td>106914191</td>\n",
              "      <td>1</td>\n",
              "      <td>85</td>\n",
              "      <td>1</td>\n",
              "      <td>6</td>\n",
              "      <td>7</td>\n",
              "      <td>8</td>\n",
              "      <td>53</td>\n",
              "      <td>2</td>\n",
              "      <td>...</td>\n",
              "      <td>0</td>\n",
              "      <td>3</td>\n",
              "      <td>1</td>\n",
              "      <td>1</td>\n",
              "      <td>NaN</td>\n",
              "      <td>0</td>\n",
              "      <td>0</td>\n",
              "      <td>1</td>\n",
              "      <td>0</td>\n",
              "      <td>0</td>\n",
              "    </tr>\n",
              "    <tr>\n",
              "      <th>10999</th>\n",
              "      <td>206121411</td>\n",
              "      <td>91334525</td>\n",
              "      <td>0</td>\n",
              "      <td>65</td>\n",
              "      <td>2</td>\n",
              "      <td>1</td>\n",
              "      <td>7</td>\n",
              "      <td>10</td>\n",
              "      <td>54</td>\n",
              "      <td>2</td>\n",
              "      <td>...</td>\n",
              "      <td>0</td>\n",
              "      <td>3</td>\n",
              "      <td>1</td>\n",
              "      <td>1</td>\n",
              "      <td>NaN</td>\n",
              "      <td>0</td>\n",
              "      <td>0</td>\n",
              "      <td>1</td>\n",
              "      <td>0</td>\n",
              "      <td>0</td>\n",
              "    </tr>\n",
              "  </tbody>\n",
              "</table>\n",
              "<p>11000 rows × 36 columns</p>\n",
              "</div>\n",
              "      <button class=\"colab-df-convert\" onclick=\"convertToInteractive('df-585846b0-b21a-4bf0-a92d-874b5f53e33f')\"\n",
              "              title=\"Convert this dataframe to an interactive table.\"\n",
              "              style=\"display:none;\">\n",
              "        \n",
              "  <svg xmlns=\"http://www.w3.org/2000/svg\" height=\"24px\"viewBox=\"0 0 24 24\"\n",
              "       width=\"24px\">\n",
              "    <path d=\"M0 0h24v24H0V0z\" fill=\"none\"/>\n",
              "    <path d=\"M18.56 5.44l.94 2.06.94-2.06 2.06-.94-2.06-.94-.94-2.06-.94 2.06-2.06.94zm-11 1L8.5 8.5l.94-2.06 2.06-.94-2.06-.94L8.5 2.5l-.94 2.06-2.06.94zm10 10l.94 2.06.94-2.06 2.06-.94-2.06-.94-.94-2.06-.94 2.06-2.06.94z\"/><path d=\"M17.41 7.96l-1.37-1.37c-.4-.4-.92-.59-1.43-.59-.52 0-1.04.2-1.43.59L10.3 9.45l-7.72 7.72c-.78.78-.78 2.05 0 2.83L4 21.41c.39.39.9.59 1.41.59.51 0 1.02-.2 1.41-.59l7.78-7.78 2.81-2.81c.8-.78.8-2.07 0-2.86zM5.41 20L4 18.59l7.72-7.72 1.47 1.35L5.41 20z\"/>\n",
              "  </svg>\n",
              "      </button>\n",
              "      \n",
              "  <style>\n",
              "    .colab-df-container {\n",
              "      display:flex;\n",
              "      flex-wrap:wrap;\n",
              "      gap: 12px;\n",
              "    }\n",
              "\n",
              "    .colab-df-convert {\n",
              "      background-color: #E8F0FE;\n",
              "      border: none;\n",
              "      border-radius: 50%;\n",
              "      cursor: pointer;\n",
              "      display: none;\n",
              "      fill: #1967D2;\n",
              "      height: 32px;\n",
              "      padding: 0 0 0 0;\n",
              "      width: 32px;\n",
              "    }\n",
              "\n",
              "    .colab-df-convert:hover {\n",
              "      background-color: #E2EBFA;\n",
              "      box-shadow: 0px 1px 2px rgba(60, 64, 67, 0.3), 0px 1px 3px 1px rgba(60, 64, 67, 0.15);\n",
              "      fill: #174EA6;\n",
              "    }\n",
              "\n",
              "    [theme=dark] .colab-df-convert {\n",
              "      background-color: #3B4455;\n",
              "      fill: #D2E3FC;\n",
              "    }\n",
              "\n",
              "    [theme=dark] .colab-df-convert:hover {\n",
              "      background-color: #434B5C;\n",
              "      box-shadow: 0px 1px 3px 1px rgba(0, 0, 0, 0.15);\n",
              "      filter: drop-shadow(0px 1px 2px rgba(0, 0, 0, 0.3));\n",
              "      fill: #FFFFFF;\n",
              "    }\n",
              "  </style>\n",
              "\n",
              "      <script>\n",
              "        const buttonEl =\n",
              "          document.querySelector('#df-585846b0-b21a-4bf0-a92d-874b5f53e33f button.colab-df-convert');\n",
              "        buttonEl.style.display =\n",
              "          google.colab.kernel.accessAllowed ? 'block' : 'none';\n",
              "\n",
              "        async function convertToInteractive(key) {\n",
              "          const element = document.querySelector('#df-585846b0-b21a-4bf0-a92d-874b5f53e33f');\n",
              "          const dataTable =\n",
              "            await google.colab.kernel.invokeFunction('convertToInteractive',\n",
              "                                                     [key], {});\n",
              "          if (!dataTable) return;\n",
              "\n",
              "          const docLinkHtml = 'Like what you see? Visit the ' +\n",
              "            '<a target=\"_blank\" href=https://colab.research.google.com/notebooks/data_table.ipynb>data table notebook</a>'\n",
              "            + ' to learn more about interactive tables.';\n",
              "          element.innerHTML = '';\n",
              "          dataTable['output_type'] = 'display_data';\n",
              "          await google.colab.output.renderOutput(dataTable, element);\n",
              "          const docLink = document.createElement('div');\n",
              "          docLink.innerHTML = docLinkHtml;\n",
              "          element.appendChild(docLink);\n",
              "        }\n",
              "      </script>\n",
              "    </div>\n",
              "  </div>\n",
              "  "
            ]
          },
          "metadata": {},
          "execution_count": 351
        }
      ]
    },
    {
      "cell_type": "markdown",
      "source": [
        "## Convert the categorical feature 'Diagnosis 1',  'Diagnosis 2', and 'Diagnosis 3' into numeric features\n",
        "\n",
        "Those 3 features have many distinct codes as values, and those codes are referred to be the first three digits of ICD9 codes. The details about matching code to the corresponding health problem can be found at: https://en.wikipedia.org/wiki/List_of_ICD-9_codes   "
      ],
      "metadata": {
        "id": "PG1buNlKKFYa"
      }
    },
    {
      "cell_type": "code",
      "source": [],
      "metadata": {
        "id": "iNFdpDBKEKzC"
      },
      "execution_count": 351,
      "outputs": []
    },
    {
      "cell_type": "code",
      "source": [
        "# we first need to convert the codes that contain letter 'V' or 'E' into numeric values\n",
        "# so that we can convert the data type of the 3 diagnosis features into int\n",
        "# According to https://en.wikipedia.org/wiki/List_of_ICD-9_codes_E_and_V_codes:_external_causes_of_injury_and_supplemental_classification\n",
        "# the codes that contain letter 'V' or 'E' represent Supplementary Classification of Problems,\n",
        "# so we can simply assign them to the same numeric value 0, which means 'others'\n",
        "\n",
        "# This function accepts a dataframe and a feature\n",
        "# It replaces each code in the supplied diag feature that starts with 'V' or 'E' with the number '-1' \n",
        "def remove_ve(df, diag):\n",
        "    df.loc[(df[diag].str.contains(\"V\")) | (df[diag].str.contains(\"E\")), diag] = -1 # replace code statring with 'V' or 'E' with the number '-1' \n",
        "    df[diag] = df[diag].astype(np.float16) # convert all codes in the supplied diag feature into float type\n",
        "    return df[diag]\n",
        "\n"
      ],
      "metadata": {
        "id": "GeOXWIBLSvzY"
      },
      "execution_count": 352,
      "outputs": []
    },
    {
      "cell_type": "code",
      "source": [
        "for diag in diag_list:\n",
        "  df_train[diag] = remove_ve(df_train, diag)\n",
        "  df_test[diag] = remove_ve(df_test, diag)\n",
        "#df_train[\"diag_1\"].unique()"
      ],
      "metadata": {
        "colab": {
          "base_uri": "https://localhost:8080/"
        },
        "id": "3Tf7hWB3FMEt",
        "outputId": "2a603bc0-0259-49be-a30c-cda9ae570e7b"
      },
      "execution_count": 353,
      "outputs": [
        {
          "output_type": "execute_result",
          "data": {
            "text/plain": [
              "array([398. , 434. , 197. , 250.8, 414. , 157. , 428. , 518. , 648. ,\n",
              "       999. , 410. , 682. , 402. , 737. , 276. , 572. ,  -1. , 189. ,\n",
              "       786. , 427. , 996. , 277. , 584. , 462. , 473. , 411. , 174. ,\n",
              "       486. , 998. , 511. , 432. , 626. , 295. ,   8. , 196. , 250.6,\n",
              "       618. , 182. , 845. , 423. , 808. , 250.4, 722. , 403. , 250.1,\n",
              "       784. , 707. , 440. , 151. , 715. , 997. , 198. , 564. , 812. ,\n",
              "        38. , 590. , 556. , 578. , 433. , 569. , 185. , 536. , 255. ,\n",
              "       599. , 558. , 574. , 250.9, 491. , 560. , 244. , 250. , 577. ,\n",
              "       730. , 188. , 824. , 332. , 562. , 291. , 296. , 510. , 401. ,\n",
              "       263. , 438. ,  70. , 493. , 642. , 625. , 571. , 738. , 593. ,\n",
              "       807. , 456. , 446. , 575. , 820. , 515. , 780. , 250.2, 995. ,\n",
              "       235. , 721. , 787. , 162. , 724. , 282. , 514. , 281. , 530. ,\n",
              "       466. , 435. , 789. , 566. , 822. , 191. , 557. , 733. , 455. ,\n",
              "       711. , 482. , 202. , 280. , 553. , 225. , 154. , 441. , 349. ,\n",
              "         nan, 962. , 592. , 507. , 386. , 156. , 200. , 728. , 348. ,\n",
              "       459. , 426. , 388. , 607. , 337. ,  82. , 531. , 596. , 288. ,\n",
              "       656. , 573. , 492. , 220. , 516. , 210. , 922. , 286. , 885. ,\n",
              "       958. , 661. , 969. , 227. , 112. , 404. , 823. , 532. , 416. ,\n",
              "       346. , 535. , 453. , 595. , 211. , 303. , 852. , 218. , 782. ,\n",
              "       540. , 457. , 285. , 431. , 340. , 550. ,  54. , 351. , 601. ,\n",
              "       723. , 555. , 153. , 443. , 380. , 204. , 424. , 241. , 358. ,\n",
              "       694. , 331. , 345. , 681. , 447. , 290. , 158. , 579. , 436. ,\n",
              "       335. , 309. , 654. , 805. , 799. , 292. , 183. ,  78. , 851. ,\n",
              "       458. , 586. , 311. , 892. , 305. , 293. , 415. , 591. , 794. ,\n",
              "       803. ,  79. , 655. , 429. , 278. , 658. , 598. , 729. , 585. ,\n",
              "       444. , 604. , 727. , 214. , 552. , 284. , 680. , 708. ,  41. ,\n",
              "       644. , 481. , 821. , 413. , 437. , 968. , 756. , 632. , 359. ,\n",
              "       275. , 512. , 781. , 420. , 368. , 522. , 294. , 825. , 135. ,\n",
              "       304. , 320. , 669. , 868. , 496. , 826. , 567. ,   3. , 203. ,\n",
              "        53. , 251. , 565. , 161. , 495. ,  49. , 297. , 663. , 576. ,\n",
              "       355. , 850. , 287. , 611. , 840. , 350. , 726. , 537. , 620. ,\n",
              "       180. , 366. , 783. ,  11. , 751. , 716. , 199. , 464. , 580. ,\n",
              "       836. , 664. , 283. , 813. , 966. , 289. , 965. , 184. , 480. ,\n",
              "       608. , 333. , 972. , 212. , 117. , 788. , 924. , 959. , 621. ,\n",
              "       238. , 785. , 714. , 942. , 710. ,  47. , 933. , 508. , 478. ,\n",
              "       844. ,   7. , 736. , 233. ,  42. , 250.5, 397. , 395. , 201. ,\n",
              "       421. , 253. , 600. , 494. , 977. ,  39. , 659. , 312. , 614. ,\n",
              "       647. , 652. , 646. , 274. , 861. , 425. , 527. , 451. , 485. ,\n",
              "       217. , 442. , 970. , 193. , 160. , 322. , 581. , 475. , 623. ,\n",
              "       374. , 582. , 568. , 465. , 801. , 237. , 376. , 150. , 461. ,\n",
              "       913. , 226. , 617. , 987. , 641. , 298. , 790. , 336. , 362. ,\n",
              "       228. , 513. , 383. , 746. , 353. , 911. , 506. , 873. , 155. ,\n",
              "       860. , 534. , 802. , 141. , 396. , 310. , 341. , 242. , 719. ,\n",
              "       239. , 533. , 616. , 519. , 301. ,   5. , 989. , 230. , 385. ,\n",
              "       300. , 853. , 871. , 570. , 848. , 463. ,   9. , 934. , 236. ,\n",
              "       361. , 594. , 501. , 810. , 643. , 430. , 528. , 205. , 791. ,\n",
              "       983. , 992. , 490. , 172. , 171. , 622. , 306. , 863. , 864. ,\n",
              "       474. , 660. , 759. , 356. , 634. , 967. , 551. , 695. , 187. ,\n",
              "       732. , 747. , 323. , 308. , 370. , 252. , 152. , 846. , 164. ,\n",
              "       365. , 718. ,  48. , 266. , 720. ,  94. , 344. , 797. , 170. ,\n",
              "       878. , 904. , 882. , 843. , 709. , 973. , 454. , 686. , 939. ,\n",
              "       487. , 229. , 991. , 483. , 357. , 692. , 796. , 693. , 935. ,\n",
              "       936. , 800. , 920. , 261. , 307. , 262. , 831. , 145. , 223. ,\n",
              "       839. , 685. ,  35. ,  34. , 179. , 964. , 136. , 324. , 389. ,\n",
              "       815. , 334. , 143. , 526. , 588. , 192. , 394. , 917. ,  88. ,\n",
              "       219. , 325. , 792. , 717. , 994. , 990. , 793. , 207. , 637. ,\n",
              "       195. , 373. , 847. , 827. ,  31. , 891. , 814. , 703. , 865. ,\n",
              "       352. , 627. , 378. , 342. , 886. , 369. , 745. , 705. , 816. ,\n",
              "       541. , 986. , 610. , 633. , 640. , 753. , 173. , 835. , 379. ,\n",
              "       445. , 272. , 382. , 945. , 619. , 881. , 866. , 405. , 916. ,\n",
              "       215. , 893. ,  75. , 671. , 928. , 906. , 897. , 725. , 867. ,\n",
              "       115. , 890. , 734. , 521. , 674. , 470. , 834. , 146. , 696. ,\n",
              "       524. , 980. , 691. , 384. , 142. , 879. , 246. , 208. , 448. ,\n",
              "       955. , 653. , 149. , 245. , 735. , 883. , 854. , 952. , 838. ,\n",
              "       194. , 163. , 216. , 147. , 354. ,  27. , 477. , 318. , 880. ,\n",
              "       921. , 377. , 471. , 683. , 175. , 602. , 982. , 706. , 375. ,\n",
              "       417. , 131. , 347. , 870. , 148. , 862. ,  61. , 817. , 914. ,\n",
              "       360. , 684. , 314. ,  36. ,  57. , 240. , 915. , 971. , 795. ,\n",
              "       988. , 452. , 963. , 327. , 731. , 842. , 645. , 806. , 542. ,\n",
              "       114. , 543. , 338. , 372. , 923. , 273. , 583. , 422. , 615. ,\n",
              "       279. , 500. , 529. , 903. , 919. , 875. ,  66. , 381. , 804. ,\n",
              "       704. ,  23. , 271. ,  58. , 649. , 657. , 603. , 832. , 110. ,\n",
              "       944. , 133. , 975. , 833. , 391. , 690. , 941. ,  10. ,  52. ],\n",
              "      dtype=float16)"
            ]
          },
          "metadata": {},
          "execution_count": 353
        }
      ]
    },
    {
      "cell_type": "code",
      "source": [
        "# we define 1 function for converting the 3 diagnosis features into numeric\n",
        "def transform_diag(diag_value):\n",
        "  \n",
        "  if diag_value>=1 and diag_value<=139:\n",
        "      code = 1  # Infectious and Parasitic Diseases\n",
        "  \n",
        "  elif diag_value>=140 and diag_value<=239:\n",
        "      code = 2  # Neoplasms\n",
        "  elif diag_value>=240 and diag_value<=279:\n",
        "      code = 3  # Endocrine, Nutritional and Metabolic Diseases, \n",
        "                    #and Immunity Disorders\n",
        "  elif diag_value>=280 and diag_value<=289:\n",
        "      code = 4  # Diseases of the Blood and Blood-forming Organs\n",
        "  elif diag_value>=290 and diag_value<=319:\n",
        "      code = 5  # Mental Disorders\n",
        "  elif diag_value>=320 and diag_value<=389:\n",
        "      code = 6  # Diseases of the Nervous System and Sense Organs\n",
        "  elif diag_value>=390 and diag_value<=459:\n",
        "      code = 7  # Diseases of the Circulatory System\n",
        "  elif diag_value>=460 and diag_value<=519:\n",
        "      code = 8  # Diseases of the Respiratory System\n",
        "  elif diag_value>=520 and diag_value<=579:\n",
        "      code = 9  # Diseases of the Digestive System\n",
        "  elif diag_value>=580 and diag_value<=629:\n",
        "      code = 10 # Diseases of the Genitourinary System      \n",
        "  elif diag_value>=630 and diag_value<=679:\n",
        "      code = 11 # Complications of Pregnancy, \n",
        "                    # Childbirth, and the Puerperium\n",
        "  elif diag_value>=680 and diag_value<=709:\n",
        "      code = 12 # Diseases of the Skin and Subcutaneous Tissue\n",
        "  elif diag_value>=710 and diag_value<=739:\n",
        "      code = 13 # Diseases of the Musculoskeletal System and Connective Tissue\n",
        "  elif diag_value>=740 and diag_value<=759:\n",
        "      code = 14 # Congenital Anomalies\n",
        "  elif diag_value>=760 and diag_value<=779:\n",
        "      code = 15 # Certain Conditions originating in the Perinatal Period\n",
        "  elif diag_value>=780 and diag_value<=799:\n",
        "      code = 16 # Symptoms, Signs and Ill-defined Conditions\n",
        "  elif diag_value>=800 and diag_value<=999:\n",
        "      code = 17 # Injury and Poisoning\n",
        "  elif diag_value==-1: # codes start with 'V' or 'E' with the number '-1' \n",
        "      code = 0  # Supplementary Classification of External Causes of Injury and Poisoning\n",
        "                    # Supplementary Classification of Factors influencing Health Status and Contact with Health Services\n",
        "  else: # assigne nan to diag_value 9\n",
        "      code = 18 \n",
        "  \n",
        "  return code"
      ],
      "metadata": {
        "id": "kTIVPIwnL_CD"
      },
      "execution_count": 355,
      "outputs": []
    },
    {
      "cell_type": "code",
      "source": [
        "for diag in diag_list:\n",
        "    df_train[diag] = df_train[diag].apply(transform_diag)\n",
        "    df_test[diag] = df_test[diag].apply(transform_diag)\n"
      ],
      "metadata": {
        "id": "36N2RRvpv94s"
      },
      "execution_count": 356,
      "outputs": []
    },
    {
      "cell_type": "code",
      "source": [
        "# Ensure all the Dtype have become int64 (numeric type)\n",
        "df_train.info()"
      ],
      "metadata": {
        "id": "ehYsSeI94O8w",
        "colab": {
          "base_uri": "https://localhost:8080/"
        },
        "outputId": "838f9907-7a51-4a6a-aec8-efa94f6ca8e8"
      },
      "execution_count": 358,
      "outputs": [
        {
          "output_type": "stream",
          "name": "stdout",
          "text": [
            "<class 'pandas.core.frame.DataFrame'>\n",
            "Int64Index: 90763 entries, 0 to 90765\n",
            "Data columns (total 36 columns):\n",
            " #   Column                    Non-Null Count  Dtype\n",
            "---  ------                    --------------  -----\n",
            " 0   encounter_id2             90763 non-null  int64\n",
            " 1   patient_nbr2              90763 non-null  int64\n",
            " 2   gender                    90763 non-null  int64\n",
            " 3   age                       90763 non-null  int64\n",
            " 4   admission_type_id         90763 non-null  int64\n",
            " 5   discharge_disposition_id  90763 non-null  int64\n",
            " 6   admission_source_id       90763 non-null  int64\n",
            " 7   time_in_hospital          90763 non-null  int64\n",
            " 8   num_lab_procedures        90763 non-null  int64\n",
            " 9   num_procedures            90763 non-null  int64\n",
            " 10  num_medications           90763 non-null  int64\n",
            " 11  number_outpatient         90763 non-null  int64\n",
            " 12  number_emergency          90763 non-null  int64\n",
            " 13  number_inpatient          90763 non-null  int64\n",
            " 14  diag_1                    90763 non-null  int64\n",
            " 15  diag_2                    90763 non-null  int64\n",
            " 16  diag_3                    90763 non-null  int64\n",
            " 17  number_diagnoses          90763 non-null  int64\n",
            " 18  max_glu_serum             90763 non-null  int64\n",
            " 19  A1Cresult                 90763 non-null  int64\n",
            " 20  metformin                 90763 non-null  int64\n",
            " 21  repaglinide               90763 non-null  int64\n",
            " 22  glimepiride               90763 non-null  int64\n",
            " 23  glipizide                 90763 non-null  int64\n",
            " 24  glyburide                 90763 non-null  int64\n",
            " 25  pioglitazone              90763 non-null  int64\n",
            " 26  rosiglitazone             90763 non-null  int64\n",
            " 27  insulin                   90763 non-null  int64\n",
            " 28  change                    90763 non-null  int64\n",
            " 29  diabetesMed               90763 non-null  int64\n",
            " 30  readmitted                90763 non-null  int64\n",
            " 31  race_AfricanAmerican      90763 non-null  uint8\n",
            " 32  race_Asian                90763 non-null  uint8\n",
            " 33  race_Caucasian            90763 non-null  uint8\n",
            " 34  race_Hispanic             90763 non-null  uint8\n",
            " 35  race_Other                90763 non-null  uint8\n",
            "dtypes: int64(31), uint8(5)\n",
            "memory usage: 24.6 MB\n"
          ]
        }
      ]
    },
    {
      "cell_type": "code",
      "source": [
        "# heatmap of the correlation matrix of all the features (since all categorical features have been converted into numeric)\n",
        "matrix = np.triu(df_train.corr())\n",
        "fig, ax = plt.subplots(figsize=(30,30))\n",
        "sns.heatmap(df_train.corr(), annot=True, ax=ax, fmt='.1g', vmin=-1, vmax=1, center= 0, mask=matrix, cmap='RdBu_r')\n",
        "plt.show()"
      ],
      "metadata": {
        "id": "4bE4hv48vK0V",
        "colab": {
          "base_uri": "https://localhost:8080/",
          "height": 1000
        },
        "outputId": "df563c81-2b0e-4e03-d63e-992d8faefe74"
      },
      "execution_count": 359,
      "outputs": [
        {
          "output_type": "display_data",
          "data": {
            "text/plain": [
              "<Figure size 2160x2160 with 2 Axes>"
            ],
            "image/png": "[encoded data removed]"
          },
          "metadata": {
            "needs_background": "light"
          }
        }
      ]
    },
    {
      "cell_type": "code",
      "source": [
        "# Time in Hospital and Readmission\n",
        "fig = plt.figure(figsize=(12,6))\n",
        "ax=sns.kdeplot(df_train.loc[(df_train['readmitted'] == 0),'time_in_hospital'] , color='b',shade=True,label='No readmittion')\n",
        "ax=sns.kdeplot(df_train.loc[(df_train['readmitted'] == 1),'time_in_hospital'] , color='r',shade=True, label='Readmittion in >30 days')\n",
        "ax=sns.kdeplot(df_train.loc[(df_train['readmitted'] == 2),'time_in_hospital'] , color='y',shade=True, label='Readmitted in <30 days')\n",
        "ax.set(xlabel='Time in Hospital (days)', ylabel='Frequency')\n",
        "plt.title('Time in Hospital VS. Readmission')\n",
        "ax.legend(loc=\"upper right\")"
      ],
      "metadata": {
        "id": "popKadE_bbFf",
        "colab": {
          "base_uri": "https://localhost:8080/",
          "height": 421
        },
        "outputId": "2c8c97ce-bd93-4ab0-c7bd-f71f095d3ee7"
      },
      "execution_count": 360,
      "outputs": [
        {
          "output_type": "execute_result",
          "data": {
            "text/plain": [
              "<matplotlib.legend.Legend at 0x7f4a6e9d1950>"
            ]
          },
          "metadata": {},
          "execution_count": 360
        },
        {
          "output_type": "display_data",
          "data": {
            "text/plain": [
              "<Figure size 864x432 with 1 Axes>"
            ],
            "image/png": "[encoded data removed]"
          },
          "metadata": {
            "needs_background": "light"
          }
        }
      ]
    },
    {
      "cell_type": "code",
      "source": [],
      "metadata": {
        "id": "DkNBc6aS0r-6"
      },
      "execution_count": 360,
      "outputs": []
    },
    {
      "cell_type": "markdown",
      "source": [
        "# Model Training"
      ],
      "metadata": {
        "id": "AVPpXb8I0ssc"
      }
    },
    {
      "cell_type": "code",
      "source": [
        "# get the training and validation sets\n",
        "from sklearn.model_selection import train_test_split\n",
        "xy_train, xy_validation = train_test_split(\n",
        "    df_train, test_size=0.3)\n"
      ],
      "metadata": {
        "id": "Srvmx7PY6Ck0"
      },
      "execution_count": 361,
      "outputs": []
    },
    {
      "cell_type": "code",
      "source": [
        "# now we can separate the target and ID attributes from the dataframe\n",
        "y_train = xy_train['readmitted']\n",
        "y_validation = xy_validation['readmitted']\n",
        "\n",
        "x_train = xy_train.drop(['readmitted', 'encounter_id2',\t'patient_nbr2' ], axis=1)\n",
        "x_validation = xy_validation.drop(['readmitted', 'encounter_id2',\t'patient_nbr2' ], axis=1)\n",
        "\n",
        "\n",
        "df_test = df_test.drop(['readmitted', 'encounter_id',\t'patient_nbr' ], axis=1)\n"
      ],
      "metadata": {
        "id": "Fk41SIH80t_Q",
        "colab": {
          "base_uri": "https://localhost:8080/"
        },
        "outputId": "4b60860a-01ba-40e6-e00e-283adfda7314"
      },
      "execution_count": 362,
      "outputs": [
        {
          "output_type": "execute_result",
          "data": {
            "text/plain": [
              "24904    0\n",
              "17898    0\n",
              "53654    2\n",
              "85474    0\n",
              "74393    2\n",
              "        ..\n",
              "5234     0\n",
              "75629    1\n",
              "501      0\n",
              "2257     0\n",
              "3345     0\n",
              "Name: readmitted, Length: 63534, dtype: int64"
            ]
          },
          "metadata": {},
          "execution_count": 362
        }
      ]
    },
    {
      "cell_type": "code",
      "source": [
        "#Y = df_train['readmitted'].apply(to_cat_target)\n",
        "#X = df_train[df_train.columns.drop('readmitted')]\n",
        "\n",
        "import xgboost as xgb\n",
        "\n",
        "\n",
        "xgb_model = xgb.XGBClassifier(objective=\"multi:softprob\", random_state=32)\n",
        "xgb_model.fit(x_train, y_train)\n",
        "\n"
      ],
      "metadata": {
        "colab": {
          "base_uri": "https://localhost:8080/"
        },
        "id": "_69KWiu-uhJk",
        "outputId": "85a543d0-4aa3-40b7-daea-01b20331e6bc"
      },
      "execution_count": 364,
      "outputs": [
        {
          "output_type": "execute_result",
          "data": {
            "text/plain": [
              "XGBClassifier(objective='multi:softprob', random_state=32)"
            ]
          },
          "metadata": {},
          "execution_count": 364
        }
      ]
    },
    {
      "cell_type": "code",
      "source": [
        "from sklearn.metrics import accuracy_score\n",
        "from sklearn.metrics import confusion_matrix\n",
        "\n",
        "#Y = df_test['readmitted'].apply(to_cat)\n",
        "#X = df_test[df_train.columns]\n",
        "y_pred_val = xgb_model.predict(x_validation)\n",
        "\n",
        "print(confusion_matrix(y_validation, y_pred_val))\n",
        "print(\"\\n Accuracy is: \", accuracy_score(y_validation, y_pred_val))\n",
        "#print(xgb_model.score(y_validation, y_pred_val))\n"
      ],
      "metadata": {
        "colab": {
          "base_uri": "https://localhost:8080/"
        },
        "id": "VxLXyV8Ou3fO",
        "outputId": "bd72e889-7151-4e36-eb53-e14148b25205"
      },
      "execution_count": 365,
      "outputs": [
        {
          "output_type": "stream",
          "name": "stdout",
          "text": [
            "[[12857  1868    12]\n",
            " [ 6434  2963    40]\n",
            " [ 1984  1025    46]]\n",
            "\n",
            " Accuracy is:  0.5826875757464468\n"
          ]
        }
      ]
    },
    {
      "cell_type": "code",
      "source": [
        "# get the prediction of test set\n",
        "y_pred_test = xgb_model.predict(df_test)\n",
        "\n",
        "y_pred_test"
      ],
      "metadata": {
        "colab": {
          "base_uri": "https://localhost:8080/"
        },
        "id": "PSmCK8vQ2Gff",
        "outputId": "fd7750db-ea4d-45ee-a0d9-db2ea806caaa"
      },
      "execution_count": 366,
      "outputs": [
        {
          "output_type": "execute_result",
          "data": {
            "text/plain": [
              "array([0, 0, 1, ..., 0, 1, 1])"
            ]
          },
          "metadata": {},
          "execution_count": 366
        }
      ]
    },
    {
      "cell_type": "code",
      "source": [
        "# write the prediction of test set into a different test file /content/C2T1_Test.csv\n",
        "df_test = pd.read_csv(\"/content/C2T1_Test.csv\")\n",
        "y_pred_test = pd.DataFrame(y_pred_test, columns= ['readmitted'])\n",
        "df_test['readmitted'] = y_pred_test['readmitted'].replace([0,1,2],['NO','>30','<30'])\n",
        "\n",
        "df_test.to_csv('C2T1_Test_output.csv', index=False)"
      ],
      "metadata": {
        "id": "MLSCCJht1N7_"
      },
      "execution_count": 374,
      "outputs": []
    },
    {
      "cell_type": "code",
      "source": [],
      "metadata": {
        "id": "fnlr-GfvBV3z"
      },
      "execution_count": null,
      "outputs": []
    }
  ]
}